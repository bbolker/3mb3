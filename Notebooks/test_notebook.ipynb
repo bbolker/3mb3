{
 "cells": [
  {
   "cell_type": "markdown",
   "metadata": {},
   "source": [
    "# Test notebook for math 3mb3\n",
    "\n",
    "Congratulations, you've succeeded in opening a Jupyter notebook on your computer. Now let's try some quick, simple models:"
   ]
  },
  {
   "cell_type": "markdown",
   "metadata": {},
   "source": [
    "## Geometric model\n",
    "\n",
    "First we'll run a geometric model $x(t+1) = R x(t)$ from $t=0$ to $t=19$, without saving intermediate steps."
   ]
  },
  {
   "cell_type": "code",
   "execution_count": 1,
   "metadata": {
    "collapsed": false
   },
   "outputs": [
    {
     "name": "stdout",
     "output_type": "stream",
     "text": [
      "3486784401\n"
     ]
    }
   ],
   "source": [
    "x0 = 1  ## starting value\n",
    "R = 3  ## geometric rate of increase\n",
    "x = x0\n",
    "for t in range(20):  ## loop; repeat the same command 20 times (t is a dummy variable)\n",
    "    x = R*x\n",
    "print(x)"
   ]
  },
  {
   "cell_type": "markdown",
   "metadata": {},
   "source": [
    "Now check that we got this right by comparing to the closed-form solution $x(t)=x(0)R^t$ (counting time from zero)"
   ]
  },
  {
   "cell_type": "code",
   "execution_count": 2,
   "metadata": {
    "collapsed": false
   },
   "outputs": [
    {
     "name": "stdout",
     "output_type": "stream",
     "text": [
      "3486784401\n"
     ]
    }
   ],
   "source": [
    "print(x0*R**20)"
   ]
  },
  {
   "cell_type": "markdown",
   "metadata": {},
   "source": [
    "Now we'll save the intermediate steps by appending them to a list."
   ]
  },
  {
   "cell_type": "code",
   "execution_count": 3,
   "metadata": {
    "collapsed": false
   },
   "outputs": [
    {
     "name": "stdout",
     "output_type": "stream",
     "text": [
      "[1, 3, 9, 27, 81, 243, 729, 2187, 6561, 19683, 59049, 177147, 531441, 1594323, 4782969, 14348907, 43046721, 129140163, 387420489, 1162261467, 3486784401]\n",
      "3486784401\n"
     ]
    }
   ],
   "source": [
    "res = [x0]  ## create a list with a single element\n",
    "x = x0\n",
    "for t in range(20):\n",
    "    x = R*x\n",
    "    res.append(x)  ## add current value to the end of the list\n",
    "print(res)  ## print the whole list"
   ]
  },
  {
   "cell_type": "code",
   "execution_count": 7,
   "metadata": {
    "collapsed": false
   },
   "outputs": [
    {
     "name": "stdout",
     "output_type": "stream",
     "text": [
      "3486784401\n"
     ]
    }
   ],
   "source": [
    "## print just the last element\n",
    "print(res[-1])"
   ]
  },
  {
   "cell_type": "code",
   "execution_count": 4,
   "metadata": {
    "collapsed": true
   },
   "outputs": [],
   "source": [
    "import numpy as np\n",
    "import scipy.integrate"
   ]
  },
  {
   "cell_type": "code",
   "execution_count": 11,
   "metadata": {
    "collapsed": false
   },
   "outputs": [],
   "source": [
    "def gradfun(y, t0):\n",
    "    g = np.log(3)*y\n",
    "    return(g)\n",
    "\n",
    "## specify gradient function, starting conditions, times for evaluation\n",
    "tvec = np.linspace(0,20)\n",
    "sol = scipy.integrate.odeint(gradfun,x0,tvec)"
   ]
  },
  {
   "cell_type": "code",
   "execution_count": 12,
   "metadata": {
    "collapsed": false
   },
   "outputs": [
    {
     "name": "stdout",
     "output_type": "stream",
     "text": [
      "[  3.48678582e+09]\n"
     ]
    }
   ],
   "source": [
    "print(sol[-1,:])  ## returns a 2D array: print the last row (-1) and all columns (:)"
   ]
  },
  {
   "cell_type": "code",
   "execution_count": 20,
   "metadata": {
    "collapsed": false
   },
   "outputs": [
    {
     "data": {
      "image/png": "[encoded data removed]",
      "text/plain": [
       "<matplotlib.figure.Figure at 0x7f1fe07eca90>"
      ]
     },
     "metadata": {},
     "output_type": "display_data"
    }
   ],
   "source": [
    "import matplotlib.pyplot as plt\n",
    "%matplotlib inline\n",
    "plt.plot(tvec, sol[:, 0]); ## plot results (semicolon suppresses output)"
   ]
  }
 ],
 "metadata": {
  "kernelspec": {
   "display_name": "Python 3",
   "language": "python",
   "name": "python3"
  },
  "language_info": {
   "codemirror_mode": {
    "name": "ipython",
    "version": 3
   },
   "file_extension": ".py",
   "mimetype": "text/x-python",
   "name": "python",
   "nbconvert_exporter": "python",
   "pygments_lexer": "ipython3",
   "version": "3.4.3"
  }
 },
 "nbformat": 4,
 "nbformat_minor": 0
}
