{
 "cells": [
  {
   "cell_type": "markdown",
   "metadata": {},
   "source": [
    "# homework 2\n",
    "\n",
    "Useful packages:"
   ]
  },
  {
   "cell_type": "code",
   "execution_count": 23,
   "metadata": {
    "collapsed": true
   },
   "outputs": [],
   "source": [
    "import numpy as np\n",
    "import matplotlib.pyplot as plt\n",
    "import pickle  ## for reading in binary files"
   ]
  },
  {
   "cell_type": "markdown",
   "metadata": {},
   "source": [
    "1. Given the annual-plant model discussed in class,\n",
    "\n",
    "$$\n",
    "\\begin{split}\n",
    "\\left( \\begin{array}{c} P_{t+1} \\\\ S_{t+1} \\end{array} \\right)\n",
    "& = \\mathbf M \\left( \\begin{array}{c} P_{t} \\\\ S_{t} \\end{array} \\right) \\\\\n",
    "& = \\left( \\begin{array}{cc} a & b \\\\ c & 0 \\end{array}\\right) \\left( \\begin{array}{c} P_{t} \\\\ S_{t} \\end{array} \\right)\n",
    "\\end{split}\n",
    "\\quad ,\n",
    "$$\n",
    "where $a = \\gamma \\sigma \\alpha$ (probability of surviving and producing a plant in the next year); $b = \\gamma \\sigma (1-\\alpha)$ (probability of surviving and producing a seed in the seed bank the next year, i.e. a seed that doesn't germinate); $c = \\sigma \\beta$ (probability that a surviving first-year seed survives another winter and germinates),  and assuming all parameters are positive.\n",
    "\n",
    "a. If you start with 1 plant, what is the population size after 2 time steps?\n",
    "\n",
    "b. Show that the only equilibrium is the zero equilibrium $(0,0)$.\n",
    "\n",
    "c. Use the trace and determinant of the matrix to compute the eigenvalues according to $\\lambda{\\pm} = (T \\pm \\sqrt{T + 4 \\Delta})/2$. Express the conditions under which the population will increase in the long term as a function of the parameters $a$, $b$, $c$.\n",
    "\n",
    "d. Solve $\\mathbf M e_+ = \\lambda_+ e_+$ to find the components of the eigenvector $e_+ = \\{ P, S \\}$, then normalize the vector to sum to 1: $\\left\\{P/(P+S), S/(P+S)\\right\\}$ to find the stable proportions in each stage."
   ]
  },
  {
   "cell_type": "markdown",
   "metadata": {},
   "source": [
    "2\\. We're going to use some data from a study of forest succession (i.e., how the combination of tree species in a forest changes over time).  First we need to read in the data:"
   ]
  },
  {
   "cell_type": "code",
   "execution_count": 22,
   "metadata": {
    "collapsed": false,
    "scrolled": true
   },
   "outputs": [
    {
     "name": "stdout",
     "output_type": "stream",
     "text": [
      "['Big-toothed aspen' 'Gray birch' 'Sassafras' 'Blackgum' 'Sweetgum'\n",
      " 'White oak' 'Red oaks' 'Hickories' 'Tulip tree' 'Red maple' 'Beech']\n"
     ]
    }
   ],
   "source": [
    "f = open(\"horn.pkl\",\"rb\")  ## open binary file for reading\n",
    "names,abbrevs,M = pickle.load(f) ## read it and extract the contents into three variables\n",
    "print(names)"
   ]
  },
  {
   "cell_type": "code",
   "execution_count": 11,
   "metadata": {
    "collapsed": false
   },
   "outputs": [
    {
     "name": "stdout",
     "output_type": "stream",
     "text": [
      "['BTA' 'GB' 'SF' 'BG' 'SG' 'WO' 'OK' 'HI' 'TU' 'RM' 'BE']\n"
     ]
    }
   ],
   "source": [
    "print(abbrevs)"
   ]
  },
  {
   "cell_type": "markdown",
   "metadata": {},
   "source": [
    "The matrix `M` contains the parameters for a linear (Markov) model of temporal\n",
    "changes in the species composition of a forest. The changes in the\n",
    "abundances of the species depend on the current composition of\n",
    "species. Therefore, if we start with a forest containing only\n",
    "big-toothed aspen and nothing else, the composition after one time\n",
    "step would be,"
   ]
  },
  {
   "cell_type": "code",
   "execution_count": 21,
   "metadata": {
    "collapsed": false
   },
   "outputs": [
    {
     "data": {
      "text/plain": [
       "array([ 0.03,  0.05,  0.09,  0.06,  0.06,  0.  ,  0.02,  0.04,  0.02,\n",
       "        0.6 ,  0.03])"
      ]
     },
     "execution_count": 21,
     "metadata": {},
     "output_type": "execute_result"
    }
   ],
   "source": [
    "nsp = len(names) ## or M.shape[0]\n",
    "## set initial condition:\n",
    "n0 = np.zeros(nsp)\n",
    "n0[0] = 1    \n",
    "## go forward one time step\n",
    "M.dot(n0)"
   ]
  },
  {
   "cell_type": "markdown",
   "metadata": {},
   "source": [
    "a. Starting from this inital condition, determine the long-run composition of the forest (going to $t=100$ should be sufficient to get very close to the long-run composition) using at least **two** of the following approaches; (1) a `for` loop, (2) the explicit closed-form eigenvector-based solution (i.e. $\\mathbf S \\mathbf D^t \\mathbf S^{-1} x(0)$), (3) the `numpy.linalg.matrix_power()` function. Compare the results with each other and with the dominant eigenvector (don't forget to normalize your results by dividing by the sum!). Save the normalized vector as `longrun_comp`."
   ]
  },
  {
   "cell_type": "code",
   "execution_count": null,
   "metadata": {
    "collapsed": true
   },
   "outputs": [],
   "source": []
  },
  {
   "cell_type": "markdown",
   "metadata": {},
   "source": [
    "b. Use `pos = np.argsort(-longrun_comp)` to find the indices that will sort the vector into *reverse* order. Then use `xvec = np.arange(nsp); plt.bar(xvec,longrun_comp[pos]); plt.xticks(xvec, names[pos])` to make a barplot of the eigenvalues in decreasing order with the appropriate names. (You may find it prettier to use `abbrevs[pos]` instead of `names[pos]`.)"
   ]
  },
  {
   "cell_type": "code",
   "execution_count": 9,
   "metadata": {
    "collapsed": false
   },
   "outputs": [],
   "source": [
    "%matplotlib inline"
   ]
  },
  {
   "cell_type": "markdown",
   "metadata": {},
   "source": [
    "What is the dominant species?  How many species will be present at frequencies of $>5\\%$? (You can answer this by looking at the plot, but feel free to write Python code that computes the answer.)"
   ]
  },
  {
   "cell_type": "markdown",
   "metadata": {},
   "source": [
    "c. Is the origin (i.e., (0,0,0,0,...)) an equilibrium in this model? How do you know? (**Hint**: There are a few ways to do this. You can use a criterion that we discussed in class, or you can discuss what happens if one of the eigenvalues has a modulus of exactly one ...)"
   ]
  },
  {
   "cell_type": "code",
   "execution_count": null,
   "metadata": {
    "collapsed": false
   },
   "outputs": [],
   "source": []
  }
 ],
 "metadata": {
  "kernelspec": {
   "display_name": "Python 3",
   "language": "python",
   "name": "python3"
  },
  "language_info": {
   "codemirror_mode": {
    "name": "ipython",
    "version": 3
   },
   "file_extension": ".py",
   "mimetype": "text/x-python",
   "name": "python",
   "nbconvert_exporter": "python",
   "pygments_lexer": "ipython3",
   "version": "3.4.3"
  }
 },
 "nbformat": 4,
 "nbformat_minor": 0
}
