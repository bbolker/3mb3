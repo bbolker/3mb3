{
 "cells": [
  {
   "cell_type": "markdown",
   "metadata": {},
   "source": [
    "## univariate, linear affine models\n",
    "\n",
    "1\\. if $dx/dt = a-bx$ and $x(0)=c$ ($a>0$, $b>0$, $c>0$) , find the time-dependent solution by separating variables and integrating both sides of the equation. Confirm that your solution simplifies to $c$ when $t=0$ and converges to $a/b$ as $t\\to \\infty$.\n",
    "\n",
    "## theta-logistic model\n",
    "\n",
    "The *theta-logistic model* is a generalization of the logistic equation:\n",
    "\n",
    "$$\n",
    "\\frac{dN}{dt} = r N \\left(1- \\left(\\frac{N}{K} \\right)^\\theta\\right) \\qquad r, K, \\theta >0\n",
    "$$\n",
    "\n",
    "2\\. If $N$ has units of population density (individuals/area), identify the units of $r$, $K$, and $\\theta$.\n",
    "\n",
    "3\\. Write down a non-dimensionalized version of the theta-logistic by finding the parameters with units of (1) time (or time$^{-1}$) and (2) population density (or density$^{-1}$) and equating them to 1.\n",
    "\n",
    "4\\. Evaluate the equilibria and conditions for stability of this model. Compare the equilibria and stability conditions to those for the standard logistic (i.e. when $\\theta=1$).  How does $\\theta$ affect the population growth rate when rare (rate of departing from the zero equilibrium)?  How does it affect the stability of the non-zero equilibrium (i.e. for what values of $\\theta$ is it more, less, or equally stable?) [here \"more stable\" would mean a negative Jacobian of larger magnitude; \"less unstable\" would mean a positive Jacobian of smaller magnitude; etc.]\n",
    "\n",
    "5\\. Use Python to draw a graph of $dN/dt$ vs. $N$ (you can use the non-dimensionalized version for simplicity) showing lines for $\\theta=1$, $\\theta=2$, and $\\theta=1/2$ on the same plot. Explain how the characteristics of this plot confirm your analytical conclusions.\n",
    "\n",
    "6\\. Define a gradient function for the (dimensional) theta-logistic model, taking arguments `t`, `x`, and `params` (a tuple of parameters in the order `r`, `K`, `theta`). Use `scipy.odeint.integrate` to generate and plot the time dynamics\n",
    "\n",
    "- (a) for `r=0.5`, `K=2`, and `theta` equal to 0.5, 1, and 2, with `N(0)=0.1`. On this graph, also include the closed-form solution of the logistic equation, using the `logist_soln` function given below, as a cross-check on your solution for `theta=1`.\n",
    "- (b) For `r` equal to 0.5, 1, and 2 with `K=2`, `theta=2`, and `N(0)=4`. "
   ]
  },
  {
   "cell_type": "code",
   "execution_count": 3,
   "metadata": {
    "collapsed": false
   },
   "outputs": [],
   "source": [
    "import numpy as np\n",
    "import scipy\n",
    "\n",
    "params1 = (0.5, 2, 1.5)\n",
    "tvec = np.arange(0,10,0.1)\n",
    "N0 = 0.1\n",
    "\n",
    "def logist_soln(N0, t, params):\n",
    "    \"\"\"closed-form solution of the logistic equation,\n",
    "    for comparison\"\"\"\n",
    "    r, K = params\n",
    "    return(K/(1+(K/N0-1)*np.exp(-r*t)))\n",
    "\n",
    "def thetalogist_grad(N, t, params):\n",
    "    \"\"\"theta-logistic gradient function\"\"\"\n",
    "    ## your code here!\n"
   ]
  }
 ],
 "metadata": {
  "kernelspec": {
   "display_name": "Python 3",
   "language": "python",
   "name": "python3"
  },
  "language_info": {
   "codemirror_mode": {
    "name": "ipython",
    "version": 3
   },
   "file_extension": ".py",
   "mimetype": "text/x-python",
   "name": "python",
   "nbconvert_exporter": "python",
   "pygments_lexer": "ipython3",
   "version": "3.4.3"
  }
 },
 "nbformat": 4,
 "nbformat_minor": 0
}
