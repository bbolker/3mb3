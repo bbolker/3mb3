{
 "cells": [
  {
   "cell_type": "markdown",
   "metadata": {},
   "source": [
    "## Lotka-Volterra predator-prey with functional response\n",
    "\n",
    "In ecology, *functional response* refers to the per-predator rate at which predators can consume prey, as a function of prey density.  For example, a *Holling type II functional response*\n",
    "\n",
    "$$\n",
    "f(N) = \\frac{aN}{1+ahN}\n",
    "$$\n",
    "indicates that at low densities ($N \\ll 1/(ah)$) the consumption rate is a linear function of density, while at high densities ($N \\gg 1/(ah)$) the consumption rate saturates at $1/h$. (The parameter $a$ is called the *attack rate*, $1/h$ is the *handling time*. (Except for the specific parameterization, the Holling type II function is the same as the Michaelis-Menten curve.)\n",
    "\n",
    "The Lotka-Volterra predator-prey equations with type II functional response:\n",
    "\n",
    "$$\n",
    "\\begin{split}\n",
    "\\frac{dV}{dt} & = rV - \\frac{aVP}{1+ahV} \\\\\n",
    "\\frac{dP}{dt} & = \\frac{eaVP}{1+ahV} - gP\n",
    "\\end{split}\n",
    "$$\n",
    "\n",
    "Assume all parameters except $r$ are $>0$; $r$ can be any real value. The initial conditions are $\\geq 0$.\n",
    "\n",
    "1\\. If $V$ has units of (prey_dens) and $P$ has units of (pred_dens), state the units of all the parameters.\n",
    "\n",
    "2\\. Find the equilibria of the system analytically.\n",
    "\n",
    "3\\. For the non-zero equilibrium, show that the prey equilibrium density is only positive when $e>gh$.\n",
    "\n",
    "4\\. Evaluate the stability of the zero equilibrium; explain the criteria in words.\n",
    "\n",
    "5\\. Assuming $e>gh$, show that the the non-zero equilibrium is unstable. If possible, explain why (contrast this system with the standard Lotka-Volterra, where the non-zero equilibrium is neutrally stable.) (Your life will be easier if you use the relationships $P^*/(1+ahV^*) = r/a$ and $V^*/(1+ahV^*) = g/(ea)$ (which you will have derived as part of the equilibrium calculation.)\n",
    "\n",
    "6\\. By hand or using Python, draw the phase plane\n",
    "a\\. for a set of parameters that make the zero equilibrium stable\n",
    "b\\. for a set of parameters that make the zero equilibrium unstable (and the non-zero equilibrium positive). (Pick any sensible sets of parameters you like.)\n",
    "\n",
    "7\\. Using Python, numerically integrate the system and draw the time dynamics and the phase-plane dynamics for both cases in question 6.\n",
    "\n",
    "8\\. Multiply the predator attack rate $a$ by a sinusoidal forcing term $1+\\sin(2\\pi t/\\tau)$ (everywhere it occurs in the equations); plot the time dynamics for the unstable-zero-equilibrium case.\n",
    "\n",
    "**extra credit**: explain in words why the criterion in question 3 makes sense (remember that an organism with *per capita* death rate $d$ has an expected lifespan of $1/d$).\n",
    "\n",
    "\n"
   ]
  }
 ],
 "metadata": {
  "kernelspec": {
   "display_name": "Python 3",
   "language": "python",
   "name": "python3"
  },
  "language_info": {
   "codemirror_mode": {
    "name": "ipython",
    "version": 3
   },
   "file_extension": ".py",
   "mimetype": "text/x-python",
   "name": "python",
   "nbconvert_exporter": "python",
   "pygments_lexer": "ipython3",
   "version": "3.4.3"
  }
 },
 "nbformat": 4,
 "nbformat_minor": 0
}
