{
 "cells": [
  {
   "cell_type": "markdown",
   "metadata": {},
   "source": [
    "# hw 5 template\n",
    "\n",
    "A *second-order autoregressive process* has the form\n",
    "\n",
    "$$\n",
    "N(t) = \\alpha N(t-1) + \\beta N(t-2) + \\varsigma \\epsilon, \\quad \\epsilon \\sim {\\cal N}(0,1).\n",
    "$$\n",
    "\n",
    "1. Apply the rules for means and variances to derive recursions for the mean and variance of $N(t)$ as a function of the means and variances at the previous two time steps.\n",
    "\n",
    "2. Find the equilibrium mean $M$ (by setting $\\bar N(t) = \\bar N(t-1) = \\bar N(t-1) = M$ and solving the mean recursion) and the equilibrium variance $V$ (by similarly setting $\\sigma^2(N(t)) = \\sigma^2(N(t-1)) = \\sigma^2(N(t-2)) = V$). What restrictions on $\\alpha$ and $\\beta$ are necessary in order to get a sensible equilibrium variance (i.e. $V \\geq 0$)? Can you explain why?\n",
    "\n",
    "3. After setting the random number seed to 101, draw 10,000 samples from a log-Normal distribution (see [documentation for numpy.random.lognormal](https://docs.scipy.org/doc/numpy-1.13.0/reference/generated/numpy.random.lognormal.html#numpy.random.lognormal)) whose underlying distribution has a mean of 2 and a standard deviation of 1.  Plot a histogram. Compute the mean, median and standard deviation of the result.\n",
    "\n",
    "4. Consider the following queueing model:\n",
    "- at the beginning of the time step, a binomially distributed number of people leave the queue, with $n$=the number of people who were in the queue at time $t$ ($N(t)$) and probability $p$. \n",
    "- after that, a negative binomially distributed number of people (with mean arrival rate $\\mu$ and dispersion parameter $\\theta$) arrive.\n",
    "\n",
    "In mathematical terms,\n",
    "\n",
    "$$\n",
    "\\begin{split}\n",
    "N(t+1) & = N(t) - D(t) + A(t) \\\\\n",
    "D(t) & \\sim \\text{Binom}(N(t),p) \\\\\n",
    "A(t) & \\sim \\text{NegBinom}(\\mu,\\theta)\n",
    "\\end{split}\n",
    "$$\n",
    "\n",
    "Write a function `mysim` that takes a starting number of people in the queue, a number of time steps to run, and a tuple of parameters and simulates the dynamics of the queue. Run the simulation for 50 time steps 100 times, storing the results in a 50 $\\times$ 100 numpy array. Plot all the trajectories on a single graph; plot a histogram of the size of the queue at the last time step; compute the mean and standard deviation of the distribution of the size of the queue at the last time step."
   ]
  },
  {
   "cell_type": "code",
   "execution_count": null,
   "metadata": {
    "collapsed": true
   },
   "outputs": [],
   "source": [
    "import numpy as np\n",
    "import numpy.random as npr\n",
    "def mynbinom(mean,disp,size):\n",
    "    p = disp/(disp+mean)\n",
    "    return(npr.negative_binomial(n=disp,p=p,size=size))\n",
    "\n",
    "def mysim(N0,nt,params):\n",
    "    p,mu,theta = params\n",
    "    ## ...\n",
    "    \n",
    "params = (0.3,2,1.5)\n",
    "N0 = 0\n",
    "nt = 50\n",
    "    "
   ]
  }
 ],
 "metadata": {
  "kernelspec": {
   "display_name": "Python 3",
   "language": "python",
   "name": "python3"
  },
  "language_info": {
   "codemirror_mode": {
    "name": "ipython",
    "version": 3
   },
   "file_extension": ".py",
   "mimetype": "text/x-python",
   "name": "python",
   "nbconvert_exporter": "python",
   "pygments_lexer": "ipython3",
   "version": "3.4.3"
  }
 },
 "nbformat": 4,
 "nbformat_minor": 0
}
