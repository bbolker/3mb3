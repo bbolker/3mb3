{
 "cells": [
  {
   "cell_type": "markdown",
   "metadata": {},
   "source": [
    "# An introduction to Python for modeling (lab 1)\n",
    "\n",
    "Authors: Ben Bolker, Steve Walker, Steve Ellner, *et al.*\n",
    "\n",
    "![Creative Commons attribution/non-commercial license](cc-attrib-nc.png)\n",
    "    \n",
    "### How to use this document\n",
    "\n",
    "These notes contain many sample calculations. It is important to \n",
    "do these yourself. You should start by typing `Kernel/Restart & Clear Output`\n",
    "so that you can execute the code chunks in this notebook one by one\n",
    "as you go through the lab. **Exercises** in the middle of a section should be done\n",
    "immediately when you get to them; make sure you have them right \n",
    "before moving on. Some more challenging exercises \n",
    "(indicated by asterisks) appear at the end of some sections. These\n",
    "can be left until later, and may be assigned as homework. "
   ]
  },
  {
   "cell_type": "markdown",
   "metadata": {},
   "source": [
    "These notes are based in part on course materials by former TAs\n",
    "Colleen Webb, Jonathan Rowell and Daniel Fink at Cornell, Professors\n",
    "Lou Gross (University of Tennessee) and Paul Fackler (NC State\n",
    "University), and on the book *Getting Started with Matlab* by\n",
    "Rudra Pratap (Oxford University Press), but have gone through many revisions and\n",
    "changes."
   ]
  },
  {
   "cell_type": "markdown",
   "metadata": {},
   "source": [
    "# Interactive calculations\n",
    "\n",
    "You can use Jupyter notebooks to do quick interactive calculations; if you know Python or R already, this is mimicking the way the Python or R consoles work. Try out some interactive calculations by opening a new **code cell**.\n",
    "\n",
    "1. Click on this text to select the current cell (you should see a box around the cell and a blue line at the left-hand edge of the cell.)\n",
    "2. Use `Insert/Insert Cell Below` from the menu, or type `b` (must be lower case), to insert a new code chunk below this text paragraph.\n",
    "3. Type some Python computations into the entry box in the new chunk (for example `1+2`)\n",
    "4. Type `SHIFT-ENTER` (the keys, both at once, not the words!) to evaluate the expression.\n",
    "5. Edit your computations to do something different (for example `3*4`)\n",
    "6. Type `SHIFT-ENTER` again to re-evaluate the code chunk.\n",
    "\n",
    "**as you go through this tutorial you will need to use SHIFT-ENTER for every code chunk to make sure it's evaluated before moving on**\n",
    "\n",
    "**ex1**: *Try editing the code chunk to include more than one computation (on separate lines). What happens when you re-evaluate?*\n",
    "\n",
    "When you're done, clean up your mess.\n",
    "\n",
    "1. Select the code chunk you just created by clicking somewhere to the left of the box  in which you're entering/editing code (in the white part of the notebook, not the gray background area). The bar at the left edge of the frame should turn blue [it's green while you're editing code].\n",
    "2. Select `Edit/Delete Cells` from the menu, *or* type `dd` to use the keyboard shortcut."
   ]
  },
  {
   "cell_type": "markdown",
   "metadata": {},
   "source": [
    "# Assigning to variables; arithmetic and mathematical operators\n",
    "\n",
    "You can store the results of your computations in a variable by using `=`; these variables can then be re-used in other computations. For example:"
   ]
  },
  {
   "cell_type": "code",
   "execution_count": 1,
   "metadata": {
    "collapsed": false
   },
   "outputs": [
    {
     "name": "stdout",
     "output_type": "stream",
     "text": [
      "3\n",
      "9\n"
     ]
    },
    {
     "data": {
      "text/plain": [
       "81"
      ]
     },
     "execution_count": 1,
     "metadata": {},
     "output_type": "execute_result"
    }
   ],
   "source": [
    "x = 1+2\n",
    "print(x) ## print intermediate results\n",
    "y = 3*x\n",
    "print(y)\n",
    "y**2     ## exponentiation"
   ]
  },
  {
   "cell_type": "markdown",
   "metadata": {},
   "source": [
    "Note that the result of the last expression `y**2` wasn't stored, but was automatically printed (*after* you click to select the code chunk and type `SHIFT-ENTER`). (By default the notebook prints the value of the *last* expression in every chunk. However, if the last expression is a variable assignment (e.g. if we had typed `z = y**2` instead), nothing would be printed. [*Try it and see!*])"
   ]
  },
  {
   "cell_type": "markdown",
   "metadata": {},
   "source": [
    "Variable names must start with a letter or an underscore (`_`), and contain letters, numbers, and underscores (*not* spaces!). Variable names are case-sensitive, so `X` and `x` are different. Try to keep your variable names short enough to type but long enough to understand (`th.density` is probably better than either `n` or `tim.hortons.density.per.hectare`). Avoid easy-to-confuse letters such as `l` and `O`."
   ]
  },
  {
   "cell_type": "markdown",
   "metadata": {},
   "source": [
    "All of the basic arithmetic operations (`+`, `-`, `*`, `/`, `**`) are built into Python, with the usual order of operations; use parentheses as necessary to change the order or if you're uncertain.\n",
    "\n",
    "**ex2**: *suppose we're trying to convert Celsius to Fahrenheit, for which the formula is $F = (9/5 C) + 32$. Does this work without the parentheses? What about the inverse Fahrenheit-to-Celsius conversion, $C = 5/9 (F-32)$ ? Check the conversions (1) 0 Celsius = 32 Fahrenheit, (2) -40 Celsius = -40 Fahrenheit* (Note: in math notation, juxtaposition denotes multiplication ($9/5 C$). What happens if you try to do this, instead of using a star for multiplication (`9/5*C`), in Python code?\n"
   ]
  },
  {
   "cell_type": "markdown",
   "metadata": {},
   "source": [
    "The more advanced mathematical functions (logarithm, exponent, sine, cosine, square root, etc.) are implemented in the `numpy` library. We load the `numpy` library, and tell Python we're going to abbreviate its name as `np`, as follows:"
   ]
  },
  {
   "cell_type": "code",
   "execution_count": 27,
   "metadata": {
    "collapsed": false
   },
   "outputs": [],
   "source": [
    "import numpy as np"
   ]
  },
  {
   "cell_type": "markdown",
   "metadata": {},
   "source": [
    "(make sure to `SHIFT-CLICK` on this code chunk to execute it). If it works, it will work silently; Python will only print a message if something goes wrong.\n",
    "\n",
    "Now we can use `np.*`, where `*` is the name of any function from `numpy` that we want to use, in our code (e.g. `np.log` (natural log), `np.exp`, `np.sin`, `np.cos`, `np.sqrt`). To see what functions are available you can go to the [numpy documentation](https://docs.scipy.org/doc/numpy/reference/routines.math.html); you can find this by clicking on `Help/Numpy` in the menu and searching for `Mathematical functions` in the web page that's opened.\n",
    "\n",
    "The notebook also does **tab completion**, where it gives you hints about what functions are available. \n",
    "\n",
    "**ex3: insert a code chunk (`Insert/Cell Below` or `b`) and type `np.lo`, then type TAB to see which numpy functions begin with \"np.lo\"). This works for all Python functions, and for variables you have defined**\n",
    "\n",
    "**ex4: edit your code chunk to compute the value of $e^{(sin(2))}$ (it should be 2.4825 ...)** (note that Python doesn't know what `e` is: you have to use the exponential function `exp`, and you must preface all `numpy` functions with `np.`)\n",
    "\n",
    "Delete your code chunk to clean up."
   ]
  },
  {
   "cell_type": "markdown",
   "metadata": {},
   "source": [
    "# first model: a leaky-bucket model\n",
    "\n",
    "Suppose that in a queue (a group of people or things waiting for service - e.g. people\n",
    "waiting at a bank, or jobs waiting for processing on a computer system, or cars\n",
    "in line at a toll booth), 25% (rounded) of\n",
    "the people waiting are served every hour and 10 new people arrive every hour.\n",
    "(For precision, we will assume that the 10 new people arrive at the *end*\n",
    "of the hour and are not counted in the fraction served.)\n",
    "\n",
    "Suppose the queue initially has one individual waiting.  We could run this model by brute force by\n",
    "typing"
   ]
  },
  {
   "cell_type": "code",
   "execution_count": 3,
   "metadata": {
    "collapsed": true
   },
   "outputs": [],
   "source": [
    "N=1"
   ]
  },
  {
   "cell_type": "markdown",
   "metadata": {},
   "source": [
    "(`SHIFT-CLICK` to run this!) to set the initial state of the queue and then typing (or cutting and pasting)"
   ]
  },
  {
   "cell_type": "code",
   "execution_count": 4,
   "metadata": {
    "collapsed": false
   },
   "outputs": [],
   "source": [
    "N  = N - round(0.25 * N)\n",
    "N  = N + 10"
   ]
  },
  {
   "cell_type": "markdown",
   "metadata": {},
   "source": [
    "over and over again. (This example shows you that a Jupyter notebook remembers what has been run in previous chunks.) Of course, this would be extremely tedious (we also wouldn't see the \n",
    "results unless we typed `N` by itself from time to time\n",
    "to see where we'd gotten).  This approach doesn't save the results\n",
    "over time; we can only see the current state of the system.\n",
    "\n",
    "Suppose that we decide we want to run the system for 20 steps.\n",
    "We can use a **loop** (or a **for loop**): in the code below,\n",
    "\n",
    "- `i` is a *dummy variable* or *loop variable*\n",
    "- `range(20)` says we want to set `i` to each value ranging from 0 to 19 (ranges etc. in Python **always** start from zero and go to `n-1`)\n",
    "- the colon at the end of the line beginning with `for` is necessary \n",
    "- both of the *indented* lines of code get run each time through the loop"
   ]
  },
  {
   "cell_type": "code",
   "execution_count": 5,
   "metadata": {
    "collapsed": false
   },
   "outputs": [
    {
     "name": "stdout",
     "output_type": "stream",
     "text": [
      "38\n"
     ]
    }
   ],
   "source": [
    "N = 1\n",
    "for i in range(20):\n",
    "    N  = N - round(0.25 * N)\n",
    "    N  = N + 10\n",
    "print(N)"
   ]
  },
  {
   "cell_type": "markdown",
   "metadata": {},
   "source": [
    "However, this only tells us the last value, i.e. `N(19)`. What if we want to keep the values of $\\{N(0), ... N(19)\\}$? Using the `numpy` function `zeros`, we can create an **array** (vector) of zeros; set the first (zeroth!) value to the initial condition, and then go through the loop. `N[i]` refers to the `i`th value from the vector `N`. We also use `numpy`'s `arange` function to set up an array containing the values from 0 to 19."
   ]
  },
  {
   "cell_type": "code",
   "execution_count": 13,
   "metadata": {
    "collapsed": false
   },
   "outputs": [
    {
     "name": "stdout",
     "output_type": "stream",
     "text": [
      "[  1.  11.  18.  24.  28.  31.  33.  35.  36.  37.  38.  38.  38.  38.  38.\n",
      "  38.  38.  38.  38.  38.]\n"
     ]
    }
   ],
   "source": [
    "N = np.zeros(20)\n",
    "N[0] = 1\n",
    "tvec = np.arange(20)  ## 0 ... 19\n",
    "for t in tvec[:19]:  ## we have to stop at 19 (see discussion below)\n",
    "    N[t+1]  = N[t] - round(0.25 * N[t])\n",
    "    N[t+1]  = N[t+1] + 10\n",
    "print(N)"
   ]
  },
  {
   "cell_type": "markdown",
   "metadata": {},
   "source": [
    "One of the hardest things to get right in modeling is figuring out the edges, i.e. how to start and end the simulation. The code above is computing `N[t+1]`, and the largest element of the array we've set up is `N[19]` (again, Python array indices start from 0, and end at **one less than the length**). If we try to run `for t in tvec:` we'll get an error (*try it and see!*), so we subset the time vector using `tvec[:19]`, which starts at 0 (since there is nothing before the colon) and ends at **18** (following the Python convention of \"stop at one less than the number\"). "
   ]
  },
  {
   "cell_type": "markdown",
   "metadata": {},
   "source": [
    "## closed-form solutions\n",
    "\n",
    "Suppose we have a *closed-form* solution to a model, i.e. we can write down the expected dynamics directly as a function of time and initial conditions, without computing each step: $N(t) = f(N(0),t)$. Remember (?) that the solution of the affine model with $N(t+1) = a + bN(t)$ is $a(1-b)^t/(1-b) + b^t N(0)$. Python lets us do *vectorized* arithmetic on arrays; that is, if we substitute the array `tvec` into the formula, it computes the value of $N$ for every time value in the array."
   ]
  },
  {
   "cell_type": "code",
   "execution_count": 14,
   "metadata": {
    "collapsed": false
   },
   "outputs": [
    {
     "name": "stdout",
     "output_type": "stream",
     "text": [
      "[  1.          10.75        18.0625      23.546875    27.66015625\n",
      "  30.74511719  33.05883789  34.79412842  36.09559631  37.07169724\n",
      "  37.80377293  38.35282969  38.76462227  39.0734667   39.30510003\n",
      "  39.47882502  39.60911877  39.70683907  39.78012931  39.83509698]\n"
     ]
    }
   ],
   "source": [
    "# it's always good to assign values to variables rather than plugging them directly\n",
    "# into the formula\n",
    "a = 10\n",
    "b = 0.75 \n",
    "N0 = 1\n",
    "# now translate the formula to Python format\n",
    "Nsol = a*(1-b**tvec)/(1-b) + b**tvec*N0\n",
    "print(Nsol)"
   ]
  },
  {
   "cell_type": "markdown",
   "metadata": {},
   "source": [
    "Drawing a picture is one of the best ways to understand model output. \n",
    "We `import` the `matplotlib.pyplot` library, abbreviated as `plt`, and draw a simple picture."
   ]
  },
  {
   "cell_type": "code",
   "execution_count": 15,
   "metadata": {
    "collapsed": false,
    "scrolled": true
   },
   "outputs": [
    {
     "data": {
      "image/png": "[encoded data removed]",
      "text/plain": [
       "<matplotlib.figure.Figure at 0x7f49898ac3c8>"
      ]
     },
     "metadata": {},
     "output_type": "display_data"
    }
   ],
   "source": [
    "import matplotlib.pyplot as plt\n",
    "## next line is 'magic' to make the plot appear in the notebook\n",
    "%matplotlib inline\n",
    "plt.plot(tvec,N);  ## semicolon suppresses ugly output"
   ]
  },
  {
   "cell_type": "markdown",
   "metadata": {},
   "source": [
    "There's a bunch of stuff you can do with the plot; change colours (`c=`), add points (`marker=`), set the axes limits, title, label, etc. ..."
   ]
  },
  {
   "cell_type": "code",
   "execution_count": 16,
   "metadata": {
    "collapsed": false
   },
   "outputs": [
    {
     "data": {
      "image/png": "[encoded data removed]",
      "text/plain": [
       "<matplotlib.figure.Figure at 0x7f49804e3da0>"
      ]
     },
     "metadata": {},
     "output_type": "display_data"
    }
   ],
   "source": [
    "plt.plot(tvec,N, c=\"red\",marker=\".\")\n",
    "plt.ylim(0,60)\n",
    "plt.title('my simulation output')\n",
    "plt.xlabel('time')\n",
    "plt.ylabel('number of people in line');"
   ]
  },
  {
   "cell_type": "markdown",
   "metadata": {},
   "source": [
    "You can plot more than one line on a graph by using more than one `plt.plot()` call; if you want to add a legend, you need to plan ahead a bit by adding labels to each line as you plot it. Suppose you want to plot the solution to the model along with the closed-form solution we computed above:"
   ]
  },
  {
   "cell_type": "code",
   "execution_count": 26,
   "metadata": {
    "collapsed": false,
    "scrolled": true
   },
   "outputs": [
    {
     "data": {
      "image/png": "[encoded data removed]",
      "text/plain": [
       "<matplotlib.figure.Figure at 0x7f497e28a400>"
      ]
     },
     "metadata": {},
     "output_type": "display_data"
    }
   ],
   "source": [
    "plt.plot(tvec,Nsol,c=\"blue\",label=\"closed-form solution\")\n",
    "plt.ylim(0,50)\n",
    "plt.plot(tvec,N, c=\"red\",marker=\".\",label=\"iterative solution\")\n",
    "plt.legend(loc=\"lower right\")\n",
    "plt.axhline(y=a/(1-b),linestyle=\"dashed\",c=\"black\"); ## add a horizontal line\n"
   ]
  },
  {
   "cell_type": "markdown",
   "metadata": {},
   "source": [
    "(Why do these not converge to the same answer?)"
   ]
  },
  {
   "cell_type": "markdown",
   "metadata": {},
   "source": [
    "# Jupyter notebook tricks\n",
    "\n",
    "As you have seen, Jupyter notebooks intersperse Python code (*code chunks*) with text chunks, called *markdown chunks* (\"markdown\" is a text format).\n",
    "\n",
    "-----\n",
    "**ex**: add a new markdown chunk below this one by clicking on this cell to select it and using `Insert/Insert Cell Below` (or typing `b`). Then click the menu item above that says \"Code\" ...\n",
    "\n",
    "![test](jupyter_menu.png)\n",
    "\n",
    "and change it to \"Markdown\" (or, click to the left of the edit box and type `m`). Type some text in the box, then type SHIFT-ENTER: the format will change from an editing format to a display format.\n",
    "\n",
    "Now clean up. (`Edit/Delete Cells` or select the chunk and type `dd`.)\n",
    "\n",
    "----\n"
   ]
  },
  {
   "cell_type": "markdown",
   "metadata": {},
   "source": [
    "You can easily do simple formatting in markdown, including *italic text* and **bold text**. Double-click on this chunk to see how it's done. Type SHIFT-ENTER when you're done to go back to display format."
   ]
  },
  {
   "cell_type": "markdown",
   "metadata": {},
   "source": [
    "More importantly, Jupyter notebooks let you enter text in [LaTeX format](https://en.wikipedia.org/wiki/LaTeX), the format that 99.99% of mathematicians (and 50% of natural scientists) use to typeset mathematics.\n",
    "\n",
    "- Dollar signs before and after some text specify that it's LaTeX format\n",
    "- Greek letters use a backslash \\ plus the letter name (use capital letters first for uppercase): $\\alpha$, $\\beta$, $\\Xi$\n",
    "- a caret (^) means uppercase and an underscore _ means subscript: $a^2$, $b_x$\n",
    "- curly braces {} are used for grouping: $a^{327}$\n",
    "- `\\frac{}{}` means a fraction: $\\frac{dN}{dt} = rN^{\\theta}$\n",
    "\n",
    "Click on this text box to see exactly how the expressions are written out."
   ]
  },
  {
   "cell_type": "markdown",
   "metadata": {},
   "source": [
    "# exercise\n",
    "\n",
    "Figures 1.5 to 1.7 in the book illustrate an example based on sandhill cranes. In the simplest version of this model, the crane population changes according to $C(t+1)=(1+r)C(t)$. A variant of the model adds [hacking](http://www.ccbbirds.org/what-we-do/research/species-of-concern/peregrine-falcon/virginia-hacking/), i.e. an addition of a constant number of birds per year to the population. (As in the example above, the birds are assumed to be added *after* the proportional gain or loss, i.e $C(t+1)=(1+r) C(t) +h$. Create a *single* plot for each of the following cases; in each case include a legend and axis labels. \n",
    "\n",
    "1. Show the number of birds over time, in the absence of hacking, starting from 100 birds in year 0, for 15 years (i.e. up to year 14), with (a) $r$=0.0194; (b) $r$=-0.0324; (c) $r$=-0.0382. (Remember, show all three trajectories on the same plot.)\n",
    "2. Now assuming 5 chicks added per year, draw trajectories for the medium- and worst-case scenarios from #1 (i.e., b and c), with the same starting condition, for 100 years. \n",
    "3. Still assuming 5 chicks added per year, in the medium case ($r$=-0.0324), show the dynamics over 210 years, using three different starting conditions (35, 100, and 200 birds in year 0)."
   ]
  }
 ],
 "metadata": {
  "kernelspec": {
   "display_name": "Python 3",
   "language": "python",
   "name": "python3"
  },
  "language_info": {
   "codemirror_mode": {
    "name": "ipython",
    "version": 3
   },
   "file_extension": ".py",
   "mimetype": "text/x-python",
   "name": "python",
   "nbconvert_exporter": "python",
   "pygments_lexer": "ipython3",
   "version": "3.4.3"
  }
 },
 "nbformat": 4,
 "nbformat_minor": 0
}
