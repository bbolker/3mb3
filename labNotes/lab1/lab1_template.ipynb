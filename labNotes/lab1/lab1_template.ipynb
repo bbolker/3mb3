{
 "cells": [
  {
   "cell_type": "markdown",
   "metadata": {},
   "source": [
    "# lab 1 template\n",
    "\n",
    "Homework is due in the Dropbox on Avenue on Friday 22 September at 11:59. Please **rename this template** to `yourmacid_lab1`, e.g. mine would be called `bolkerb_lab1`. You can do this by double-clicking on the name of the notebook (where it says `lab1_template` on the top line of this page); the file will be stored on your computer as `yourmacid_lab1.ipynb`.\n",
    "\n",
    "It's a good idea to import any libraries you might need right in the first chunk of your notebook:"
   ]
  },
  {
   "cell_type": "code",
   "execution_count": 1,
   "metadata": {
    "collapsed": true
   },
   "outputs": [],
   "source": [
    "import numpy as np\n",
    "import matplotlib.pyplot as plt"
   ]
  },
  {
   "cell_type": "markdown",
   "metadata": {},
   "source": [
    "## computational exercises\n",
    "\n",
    "Figures 1.5 to 1.7 in the book illustrate an example based on sandhill cranes. In the simplest version of this model, the crane population changes according to $C(t+1)=(1+r)C(t)$. A variant of the model adds [hacking](http://www.ccbbirds.org/what-we-do/research/species-of-concern/peregrine-falcon/virginia-hacking/), i.e. an addition of a constant number of birds per year to the population. (As in the example above, the birds are assumed to be added *after* the proportional gain or loss, i.e $C(t+1)=(1+r) C(t) +h$. Create a *single* plot for each of the following cases; in each case include a legend and axis labels. **Please use for loops to create the information for your graphs, not the analytical solution given above.** (If you are an overachiever and want to include both the analytical and the computational solution, that's fine.)\n",
    "\n",
    "You are encouraged to re-use whatever code is useful from lab 1. You can do that here:\n",
    "\n"
   ]
  },
  {
   "cell_type": "code",
   "execution_count": null,
   "metadata": {
    "collapsed": true
   },
   "outputs": [],
   "source": []
  },
  {
   "cell_type": "markdown",
   "metadata": {},
   "source": [
    "1. Show the number of birds over time, in the absence of hacking, starting from 100 birds in year 0, for 15 years (i.e. up to year 14), with (a) $r$=0.0194; (b) $r$=-0.0324; (c) $r$=-0.0382. (Remember, show all three trajectories on the same plot.)\n",
    "\n",
    "**answer:**"
   ]
  },
  {
   "cell_type": "code",
   "execution_count": null,
   "metadata": {
    "collapsed": true
   },
   "outputs": [],
   "source": []
  },
  {
   "cell_type": "markdown",
   "metadata": {},
   "source": [
    "<!-- need to override markdown list numbering -->\n",
    "\n",
    "2\\. Now assuming 5 chicks added per year, draw trajectories for the medium- and worst-case scenarios from #1 (i.e., b and c), with the same starting condition, for 100 years. \n",
    "\n",
    "**answer:**"
   ]
  },
  {
   "cell_type": "code",
   "execution_count": null,
   "metadata": {
    "collapsed": true
   },
   "outputs": [],
   "source": []
  },
  {
   "cell_type": "markdown",
   "metadata": {},
   "source": [
    "3\\. Still assuming 5 chicks added per year, in the medium case ($r$=-0.0324), show the dynamics over 210 years, using three different starting conditions (35, 100, and 200 birds in year 0).\n",
    "\n",
    "**answer:**"
   ]
  },
  {
   "cell_type": "code",
   "execution_count": null,
   "metadata": {
    "collapsed": true
   },
   "outputs": [],
   "source": []
  },
  {
   "cell_type": "markdown",
   "metadata": {},
   "source": [
    "## analytical exercises\n",
    "\n",
    "The **Ricker map** is a UNDD model defined as $N(t+1) = a N(t) \\exp(-b N(t))$. For this question, you can assume $a>0$, $b>0$, $N \\geq 0$.\n",
    "\n",
    "4\\. Find all the equilibria of the Ricker map. (Show your work; you can use `$$` for display-format equations, e.g.\n",
    "\n",
    "Set up the equation:\n",
    "\n",
    "$$\n",
    "N^* = ...\n",
    "$$\n",
    "\n",
    "$$\n",
    "\\textrm{another intermediate equation here}\n",
    "$$\n",
    "\n",
    "$$\n",
    "\\textrm{another intermediate equation here}\n",
    "$$\n",
    "\n",
    "... solution here\n",
    "\n",
    "5\\. Describe the stability of all of the equilibria, e.g. \"the first equilibrium ($N^*= ???$) is stable if $a>???$ and $b<???$, unstable otherwise: the second equilibrium ...\"\n",
    "\n",
    "6\\. Show that if $a<1$, $N$ will decrease monotonically toward zero, i.e. that $N(t+1)<N(t)$ for all possible $N(t)$ (remember from above that we are assuming $a>0$, $b>0$, $N>0$).\n",
    "\n"
   ]
  },
  {
   "cell_type": "code",
   "execution_count": null,
   "metadata": {
    "collapsed": true
   },
   "outputs": [],
   "source": []
  }
 ],
 "metadata": {
  "kernelspec": {
   "display_name": "Python 3",
   "language": "python",
   "name": "python3"
  },
  "language_info": {
   "codemirror_mode": {
    "name": "ipython",
    "version": 3
   },
   "file_extension": ".py",
   "mimetype": "text/x-python",
   "name": "python",
   "nbconvert_exporter": "python",
   "pygments_lexer": "ipython3",
   "version": "3.4.3"
  }
 },
 "nbformat": 4,
 "nbformat_minor": 0
}
