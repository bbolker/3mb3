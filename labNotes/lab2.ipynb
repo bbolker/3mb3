{
 "cells": [
  {
   "cell_type": "markdown",
   "metadata": {},
   "source": [
    "# Python Functions \n",
    "\n",
    "What are python functions?\n",
    "- a way to package code for easy reuse\n",
    "- they make your code easier to read, debug and better organized\n",
    "- you need to use them with some built-in Python modeling functions (e.g., numerical integration of ODEs)\n",
    "\n",
    "You can think of them as being similar to mathematical functions $z=f(x,y)$ (or in Python notation `z = fun(x,y)`; [we try to use function names that are longer than one letter!](https://math.stackexchange.com/questions/24241/why-do-mathematicians-use-single-letter-variables)). $x$, $y$, and $z$ are **arguments**: $z$ is the **return value**. As with mathematical functions, $x$ and $y$ are arbitrary symbols that can have different values each time we call the function.\n",
    "\n",
    "When thinking about your programming problem, certain components of the problem will be obvious candidates for being implemented as functions. Typically anything that will be repeated more then twice (calculations, graphs, ..).\n",
    "\n",
    "Lets start with an example:"
   ]
  },
  {
   "cell_type": "code",
   "execution_count": null,
   "metadata": {
    "collapsed": false
   },
   "outputs": [],
   "source": [
    "\"\"\"\n",
    "converts a temperature in Fahrenheit to its analogous value in Celsius\n",
    "\"\"\"\n",
    "def f_to_c(x):\n",
    "  result = (5/9)*(x-32)\n",
    "  return(result)"
   ]
  },
  {
   "cell_type": "markdown",
   "metadata": {},
   "source": [
    "Running the code chunk above (using SHIFT-ENTER) doesn't print anything; it just *defines* the function. Now it's available for us to use (just like any built-in Python function):"
   ]
  },
  {
   "cell_type": "code",
   "execution_count": null,
   "metadata": {
    "collapsed": false
   },
   "outputs": [],
   "source": [
    "f_to_c(100)"
   ]
  },
  {
   "cell_type": "markdown",
   "metadata": {},
   "source": [
    "## Gotchas\n",
    "\n",
    "A few things to look out for:\n",
    "\n",
    "-  add a docstring (`\"\"\"  \"\"\"`) above your function to document what it does\n",
    "-  don't forget the colon (`:`) at the end of the first line of the function definition\n",
    "-  indent the code inside the function\n",
    "-  use `return()` (**not** `print()`) inside the function\n",
    "  -  `print()` - prints the value to \"standard output\" -> likely your python console\n",
    "  -  `return()` - returns the value calculated by the function to its caller -> value can be used by other functions\n",
    "  -  A function without a `return()` statement returns `None`"
   ]
  },
  {
   "cell_type": "markdown",
   "metadata": {},
   "source": [
    "# Functions using NumPy\n",
    "\n",
    "You could use your function to process NumPy arrays.\n",
    "Here is an example:"
   ]
  },
  {
   "cell_type": "code",
   "execution_count": null,
   "metadata": {
    "collapsed": false
   },
   "outputs": [],
   "source": [
    "import numpy as np\n",
    "npA = np.array([100, 80, 60, 40, 20, 0]) ## create the array\n",
    "f_to_c(npA)"
   ]
  },
  {
   "cell_type": "markdown",
   "metadata": {},
   "source": [
    "This works because NumPy arrays allow *vectorized* arithmetic and logical operations on the elements of the array.\n",
    "In other words, the function `f_to_c()` works on each element of the array `npA` separately. \n",
    "\n",
    "Notice that you do not need to use a `for` loop to compute each separate value.\n"
   ]
  },
  {
   "cell_type": "markdown",
   "metadata": {},
   "source": [
    "# functions for dynamic models\n",
    "\n",
    "It often makes sense to define the function $N(t)$ as a function. Here's how we might set up a computation of the Ricker function $a N \\exp(-bN)$ for 20 time steps if we were doing it the simplest possible way:"
   ]
  },
  {
   "cell_type": "code",
   "execution_count": null,
   "metadata": {
    "collapsed": false,
    "scrolled": true
   },
   "outputs": [],
   "source": [
    "N = np.zeros(20)\n",
    "N[0] = 0.5\n",
    "for t in range(19):\n",
    "    N[t+1] = 2*N[t]*np.exp(-0.5*N[t])\n",
    "print(N)"
   ]
  },
  {
   "cell_type": "markdown",
   "metadata": {},
   "source": [
    "... but it might be better to define a function for $aN\\exp(-bN)$, as follows:"
   ]
  },
  {
   "cell_type": "code",
   "execution_count": null,
   "metadata": {
    "collapsed": false
   },
   "outputs": [],
   "source": [
    "def ricker(N,parms):\n",
    "    a,b = parms   ## set a and b to parameter values\n",
    "    return(a*N*np.exp(-b*N))  ## note we are using -b here ...\n",
    "\n",
    "N = np.zeros(20)\n",
    "N[0] = 0.5  ## we\n",
    "for t in range(19):\n",
    "    N[t+1] = ricker(N[t],(2,0.5))  ## second parameter is 0.5, not -0.5"
   ]
  },
  {
   "cell_type": "markdown",
   "metadata": {},
   "source": [
    "*Exercise*: set up  a function for the SIS model in terms of the number infected: $I(t+1) = \\beta (N-I(t)) I(t) + \\gamma I(t)$.  Run 20 time steps with parameters $N=100$, $\\beta=0.02$, $\\gamma=1$ and starting value $I(0)=0.2$.\n"
   ]
  },
  {
   "cell_type": "markdown",
   "metadata": {},
   "source": [
    "# linear algebra in numpy\n",
    "\n",
    "NumPy can do all of the numerical linear algebra we will need for this course (and a lot more).\n",
    "\n",
    "For example, we can define a matrix explicitly, as a two-dimensional NumPy array. If we want to define a matrix with a particular set of numerical elements, we specify these using a *tuple of tuples* `((a,b,...),(f,g,...),...)`. The values for each row are contained within parentheses; the set of rows is also contained in parentheses, as follows:"
   ]
  },
  {
   "cell_type": "code",
   "execution_count": null,
   "metadata": {
    "collapsed": false,
    "scrolled": true
   },
   "outputs": [],
   "source": [
    "x = np.array(((0.2,0.4,0.1),(0.6,0.3,0.5),(0.2,0.3,0.4)))\n",
    "print(x)"
   ]
  },
  {
   "cell_type": "markdown",
   "metadata": {},
   "source": [
    "(don't forget that we need `np.` before every NumPy function). \n",
    "\n",
    "Use `x[r,:]` to extract row `r` of a matrix and `x[:,c]` to extract column `c` (don't forget that counting starts from zero)."
   ]
  },
  {
   "cell_type": "markdown",
   "metadata": {},
   "source": [
    "There are many, many ways to define special arrays and matrices (reference [here](https://docs.scipy.org/doc/numpy/reference/routines.array-creation.html)). For example, `np.zeros()` defines a matrix full of zeros (the \"shape\" argument is expressed as `(num_rows,num_columns)` - don't forget the parentheses!) - here's a 3 $\\times$ 4 matrix:"
   ]
  },
  {
   "cell_type": "code",
   "execution_count": null,
   "metadata": {
    "collapsed": false,
    "scrolled": true
   },
   "outputs": [],
   "source": [
    "z = np.zeros((3,4))\n",
    "print(z)"
   ]
  },
  {
   "cell_type": "markdown",
   "metadata": {},
   "source": [
    "Define an diagonal matrix (the same argument type):"
   ]
  },
  {
   "cell_type": "code",
   "execution_count": null,
   "metadata": {
    "collapsed": false,
    "scrolled": false
   },
   "outputs": [],
   "source": [
    "z = np.diag((3,3))\n",
    "print(z)"
   ]
  },
  {
   "cell_type": "markdown",
   "metadata": {},
   "source": [
    "extract the diagonal of an existing matrix:"
   ]
  },
  {
   "cell_type": "code",
   "execution_count": null,
   "metadata": {
    "collapsed": false
   },
   "outputs": [],
   "source": [
    "np.diag(x)"
   ]
  },
  {
   "cell_type": "markdown",
   "metadata": {},
   "source": [
    "Use `np.eye(n)` to define an $n \\times n$ identity matrix:"
   ]
  },
  {
   "cell_type": "code",
   "execution_count": null,
   "metadata": {
    "collapsed": false
   },
   "outputs": [],
   "source": [
    "np.eye(4)"
   ]
  },
  {
   "cell_type": "markdown",
   "metadata": {},
   "source": [
    "You can add and subtract matrices that have the same dimensions (and multiply them by scalars). Computing $X-I$:"
   ]
  },
  {
   "cell_type": "code",
   "execution_count": null,
   "metadata": {
    "collapsed": false
   },
   "outputs": [],
   "source": [
    "xmi = x-np.eye(3)\n",
    "print(xmi)"
   ]
  },
  {
   "cell_type": "markdown",
   "metadata": {},
   "source": [
    "The `np.matmul()` function does matrix multiplication ..."
   ]
  },
  {
   "cell_type": "code",
   "execution_count": null,
   "metadata": {
    "collapsed": false
   },
   "outputs": [],
   "source": [
    "np.matmul(x,np.eye(3))"
   ]
  },
  {
   "cell_type": "markdown",
   "metadata": {},
   "source": [
    "You can also use the `.dot` **method** to do matrix multiplication: it's a little more compact, but if it hurts your brain, you can ignore it."
   ]
  },
  {
   "cell_type": "code",
   "execution_count": null,
   "metadata": {
    "collapsed": false
   },
   "outputs": [],
   "source": [
    "x.dot(np.eye(3))"
   ]
  },
  {
   "cell_type": "markdown",
   "metadata": {},
   "source": [
    "*Exercise*: write a `for` loop that computes $X^5$, i.e. $X*X*X*X*X$ (where $X$ is a matrix)."
   ]
  },
  {
   "cell_type": "markdown",
   "metadata": {},
   "source": [
    "# fancier linear algebra"
   ]
  },
  {
   "cell_type": "markdown",
   "metadata": {},
   "source": [
    "Up to this point, we've really been doing matrix *arithmetic* rather than matrix algebra. For fancier linear algebra (determinants, eigenvalues and eigenvectors, estimation of rank, inversion ...) we need to use the `np.linalg` submodule (reference [here](https://docs.scipy.org/doc/numpy-1.13.0/reference/routines.linalg.html)). For example, to compute $\\textrm{det}(X-I)$:"
   ]
  },
  {
   "cell_type": "code",
   "execution_count": null,
   "metadata": {
    "collapsed": false
   },
   "outputs": [],
   "source": [
    "xmi_det = np.linalg.det(xmi)\n",
    "print(xmi_det)"
   ]
  },
  {
   "cell_type": "markdown",
   "metadata": {},
   "source": [
    "Note this is **not exactly zero**. This will often happen with numerical computations! You can use NumPy's `isclose()` function to test whether the result is *close enough* to zero:"
   ]
  },
  {
   "cell_type": "code",
   "execution_count": null,
   "metadata": {
    "collapsed": false
   },
   "outputs": [],
   "source": [
    "np.isclose(xmi_det,0)"
   ]
  },
  {
   "cell_type": "markdown",
   "metadata": {},
   "source": [
    "Get eigenvalues and eigenvectors with `np.linalg.eig`. The first element (`[0]`) of the result is a 1-D array of eigenvalues; the second element (`[1]`) is a matrix of eigenvectors (each *column* is an eigenvector)."
   ]
  },
  {
   "cell_type": "code",
   "execution_count": null,
   "metadata": {
    "collapsed": false
   },
   "outputs": [],
   "source": [
    "e = np.linalg.eig(x)\n",
    "evals = e[0]  ## eigenvalues returned as the first element\n",
    "evecs = e[1]\n",
    "print(e[0]) ## eigenvectors"
   ]
  },
  {
   "cell_type": "code",
   "execution_count": null,
   "metadata": {
    "collapsed": false
   },
   "outputs": [],
   "source": [
    "\n",
    "evec0 = evecs[:,0]  ## first eigenvector (i.e. zeroth column)\n",
    "print(evec0)\n"
   ]
  },
  {
   "cell_type": "code",
   "execution_count": null,
   "metadata": {
    "collapsed": false
   },
   "outputs": [],
   "source": [
    "print(x.dot(evec0))"
   ]
  },
  {
   "cell_type": "markdown",
   "metadata": {},
   "source": [
    "Note the arbitrary scaling of eigenvectors. The lead eigenvector of this matrix is the equilibrium (we will be covering this in class); it seems weird that it's negative, but we can multiply by -1 without loss of generality. There are many choices for the scaling of eigenvectors: NumPy scales them so the $\\sum e_i^2 = 1$."
   ]
  },
  {
   "cell_type": "code",
   "execution_count": null,
   "metadata": {
    "collapsed": false
   },
   "outputs": [],
   "source": [
    "e_sum = np.sum(evec0**2)\n",
    "print(e_sum)"
   ]
  },
  {
   "cell_type": "markdown",
   "metadata": {},
   "source": [
    "This is printed as `1.0`, but as before it's not *exactly* 1.0 ..."
   ]
  },
  {
   "cell_type": "code",
   "execution_count": null,
   "metadata": {
    "collapsed": false
   },
   "outputs": [],
   "source": [
    "print(e_sum==1.0)\n",
    "print(e_sum-1.0)\n",
    "np.isclose(e_sum,1.0)"
   ]
  },
  {
   "cell_type": "markdown",
   "metadata": {},
   "source": [
    "`np.linalg` also has `matrix_power` function, which you can use to check your `for` loop results above:"
   ]
  },
  {
   "cell_type": "code",
   "execution_count": null,
   "metadata": {
    "collapsed": false
   },
   "outputs": [],
   "source": [
    "np.linalg.matrix_power(x,5)"
   ]
  },
  {
   "cell_type": "markdown",
   "metadata": {},
   "source": [
    "# Resources\n",
    "\n",
    "https://cscircles.cemc.uwaterloo.ca/10-def/\n",
    "\n",
    "http://swcarpentry.github.io/python-novice-inflammation/06-func/\n",
    "\n",
    "https://docs.scipy.org/doc/numpy-dev/user/quickstart.html\n"
   ]
  }
 ],
 "metadata": {
  "kernelspec": {
   "display_name": "Python 3",
   "language": "python",
   "name": "python3"
  },
  "language_info": {
   "codemirror_mode": {
    "name": "ipython",
    "version": 3
   },
   "file_extension": ".py",
   "mimetype": "text/x-python",
   "name": "python",
   "nbconvert_exporter": "python",
   "pygments_lexer": "ipython3",
   "version": "3.4.3"
  }
 },
 "nbformat": 4,
 "nbformat_minor": 2
}
