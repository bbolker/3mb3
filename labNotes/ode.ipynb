{
 "cells": [
  {
   "cell_type": "markdown",
   "metadata": {},
   "source": [
    "# analytical and numerical approaches to ODEs\n",
    "\n",
    "Analyzing an ODE (or a set of coupled ODEs) is in some ways slightly easier than what we have done for discrete-time models. The rules for computing equilibria and analyzing stability are different; you must keep them straight in your mind. Finding good, efficient numerical solutions is much harder, but luckily the tools you need are already available in Python, so it's not much harder in practice.\n"
   ]
  },
  {
   "cell_type": "markdown",
   "metadata": {},
   "source": [
    "## analytical approaches\n",
    "\n",
    "In general the steps for analyzing an ODE/set of ODEs are as follows:\n",
    "\n",
    "- make sure you understand the meanings of the state variables and parameters, and what their units are;\n",
    "- solve for equilibria, i.e. solve $dx/dt=0$, or for a set of equations solve the *simultaneous* equations $\\{dx/dt=0,dy/dt=0,\\ldots\\}$. There is often an equilibrium at zero; sometime other equilibria are hard to solve for in closed form.\n",
    "- evaluate the stability of equilibria\n",
    "     - graphically\n",
    "     - numerically, by evaluating the Jacobian. \n",
    "          - univariate models: $J = d(dx/dt)/dx$\n",
    "          - multivariate models: if $\\mathbf x$ is the state vector and $\\mathbf g$ is the gradient vector, $\\mathbf J = ( \\partial g_i/\\partial g_j )$ (analogous to the discrete-time Jacobian)\n",
    "     - the equilibrium is stable if $J<0$ or the real part of the dominant eigenvalue of $\\mathbf J$ is $<0$, unstable if $>0$.\n",
    "- try to find time-dependent solutions by solving (integrating) the differential equation\n",
    "\n",
    "## Allee effects\n",
    "\n",
    "[Allee effects](https://en.wikipedia.org/wiki/Allee_effect) describe the phenomena where organisms do poorly (have lower *per capita* birth rates/higher *per capita* death rates) at low densities than at intermediate densities (in general, they will also do worse when population densities are very large). A reasonable mathematical model for an Allee effect  is\n",
    "\n",
    "$$\n",
    "\\frac{dN}{dt} = r N \\left( \\frac{N}{A} - 1 \\right) \\left(1- \\frac{N}{K} \\right), \\qquad r>0, K>0, 0<A<K\n",
    "$$\n",
    "\n",
    "- What are the units of the parameters $r$, $K$, $A$?\n",
    "- What are the equilibria? \n",
    "- Draw a graph of $dN/dt$ vs. $N$ and make conclusions about the stability of the equilibria.\n",
    "- Derive the Jacobian and evaluate it at the equilibria to confirm your conclusions from the previous step.\n",
    "\n",
    "This can be separated and might be solvable by partial fractions and brute force:\n",
    "\n",
    "$$\n",
    "\\int \\frac{dN}{N \\left( \\frac{N}{A} - 1 \\right) \\left(1- \\frac{N}{K} \\right)} = \\int r \\, dt\n",
    "$$\n",
    "but we're not going to try that now.\n",
    "\n",
    "## numerical solutions\n",
    "\n",
    "First we need to define a *gradient function*:"
   ]
  },
  {
   "cell_type": "code",
   "execution_count": null,
   "metadata": {
    "collapsed": true
   },
   "outputs": [],
   "source": [
    "import numpy as np\n",
    "import matplotlib.pyplot as plt\n",
    "import scipy.integrate\n",
    "def gradfun(N, t, params):\n",
    "    \"\"\"cubic Allee effect model\n",
    "    arguments *must* be in order (state vector, time, parameters)\n",
    "    \"\"\"\n",
    "    r, K, A = params\n",
    "    return(r*N*(N/A-1)*(1-N/K))\n"
   ]
  },
  {
   "cell_type": "markdown",
   "metadata": {},
   "source": [
    "Define some parameters and a range of $N$ values (not $t$ values!) to plot the gradient function: because we are using numpy arrays, the computation is automatically done for all values of $N$."
   ]
  },
  {
   "cell_type": "code",
   "execution_count": null,
   "metadata": {
    "collapsed": true
   },
   "outputs": [],
   "source": [
    "params = (1,3,2)\n",
    "Nvec = np.arange(0,3.5,0.1)\n",
    "gradvec = gradfun(Nvec, 0, params)"
   ]
  },
  {
   "cell_type": "code",
   "execution_count": null,
   "metadata": {
    "collapsed": false,
    "scrolled": false
   },
   "outputs": [],
   "source": [
    "%matplotlib inline\n",
    "plt.plot(Nvec,gradvec)\n",
    "plt.axhline(0,c=\"black\",linestyle=\"--\");"
   ]
  },
  {
   "cell_type": "markdown",
   "metadata": {},
   "source": [
    "Now use the `scipy.integrate.odeint` function to integrate the differential equation numerically ..."
   ]
  },
  {
   "cell_type": "code",
   "execution_count": null,
   "metadata": {
    "collapsed": false
   },
   "outputs": [],
   "source": [
    "tvec = np.arange(0,10,0.1)\n",
    "s_low = scipy.integrate.odeint(\n",
    "    gradfun,\n",
    "    y0 = 1.5,\n",
    "    t = tvec,\n",
    "    args = (params,))\n",
    "s_hi = scipy.integrate.odeint(\n",
    "    gradfun,\n",
    "    np.array(2.2),\n",
    "    t = tvec,\n",
    "    args = (params,))"
   ]
  },
  {
   "cell_type": "code",
   "execution_count": null,
   "metadata": {
    "collapsed": false
   },
   "outputs": [],
   "source": [
    "%matplotlib inline\n",
    "plt.plot(tvec,s_low, label=\"N0=1.5\")\n",
    "plt.plot(tvec,s_hi,label=\"N0=2.2\",c=\"red\")\n",
    "plt.legend();"
   ]
  }
 ],
 "metadata": {
  "kernelspec": {
   "display_name": "Python 3",
   "language": "python",
   "name": "python3"
  },
  "language_info": {
   "codemirror_mode": {
    "name": "ipython",
    "version": 3
   },
   "file_extension": ".py",
   "mimetype": "text/x-python",
   "name": "python",
   "nbconvert_exporter": "python",
   "pygments_lexer": "ipython3",
   "version": "3.4.3"
  }
 },
 "nbformat": 4,
 "nbformat_minor": 0
}
