{
 "cells": [
  {
   "cell_type": "markdown",
   "metadata": {},
   "source": [
    "Import required libraries:"
   ]
  },
  {
   "cell_type": "code",
   "execution_count": 2,
   "metadata": {
    "collapsed": false
   },
   "outputs": [],
   "source": [
    "import numpy as np\n",
    "import matplotlib.pyplot as plt\n",
    "## limit the number of decimal places printed in output of numpy objects\n",
    "np.set_printoptions(precision=3)  "
   ]
  },
  {
   "cell_type": "markdown",
   "metadata": {},
   "source": [
    "Set up the matrix $M$ as a two-dimensional array: `((a11,a12,...),(a21,a22,...),...,(an1,an2))` (the third set of parentheses belongs to the `np.array()` function)."
   ]
  },
  {
   "cell_type": "code",
   "execution_count": 3,
   "metadata": {
    "collapsed": false
   },
   "outputs": [
    {
     "name": "stdout",
     "output_type": "stream",
     "text": [
      "[[  0.000e+00   0.000e+00   0.000e+00   0.000e+00   0.000e+00   3.224e+02]\n",
      " [  9.660e-01   0.000e+00   0.000e+00   0.000e+00   0.000e+00   0.000e+00]\n",
      " [  1.300e-02   1.000e-02   1.250e-01   0.000e+00   0.000e+00   3.448e+00]\n",
      " [  7.000e-03   0.000e+00   1.250e-01   2.380e-01   0.000e+00   3.017e+01]\n",
      " [  8.000e-03   0.000e+00   0.000e+00   2.450e-01   1.670e-01   8.620e-01]\n",
      " [  0.000e+00   0.000e+00   0.000e+00   2.300e-02   7.500e-01   0.000e+00]]\n"
     ]
    }
   ],
   "source": [
    "M = np.array(((0,0,0,0,0,322.38),\n",
    "              (0.966,0,0,0,0,0),\n",
    "              (0.013,0.010,0.125,0,0,3.448),\n",
    "              (0.007,0,0.125,0.238,0,30.17),\n",
    "              (0.008,0,0,0.245,0.167,0.862),\n",
    "              (0,0,0,0.023,0.75,0)))\n",
    "print(M)"
   ]
  },
  {
   "cell_type": "code",
   "execution_count": 5,
   "metadata": {
    "collapsed": false
   },
   "outputs": [
    {
     "data": {
      "text/plain": [
       "<matplotlib.image.AxesImage at 0x7fab9bdf6898>"
      ]
     },
     "execution_count": 5,
     "metadata": {},
     "output_type": "execute_result"
    },
    {
     "data": {
      "image/png": "[encoded data removed]",
      "text/plain": [
       "<matplotlib.figure.Figure at 0x7fab9e13ed30>"
      ]
     },
     "metadata": {},
     "output_type": "display_data"
    }
   ],
   "source": [
    "%matplotlib inline\n",
    "plt.matshow(M)"
   ]
  },
  {
   "cell_type": "code",
   "execution_count": 26,
   "metadata": {
    "collapsed": true
   },
   "outputs": [],
   "source": [
    "start = np.array((1,0,0,0,0,0))"
   ]
  },
  {
   "cell_type": "markdown",
   "metadata": {},
   "source": [
    "The simple way to solve this computationally is with a `for` loop:"
   ]
  },
  {
   "cell_type": "code",
   "execution_count": 33,
   "metadata": {
    "collapsed": false
   },
   "outputs": [
    {
     "name": "stdout",
     "output_type": "stream",
     "text": [
      "[  9.707e+71   4.039e+71   1.856e+70   1.056e+71   1.841e+70   6.992e+69]\n"
     ]
    }
   ],
   "source": [
    "x = start\n",
    "for t in range(200):\n",
    "    x = M.dot(x)\n",
    "print(x)"
   ]
  },
  {
   "cell_type": "markdown",
   "metadata": {},
   "source": [
    "We can do the same thing with a matrix-power operator: first we compute $M^200$, then multiply it by $x(0)$ (we could do it all in one step):"
   ]
  },
  {
   "cell_type": "code",
   "execution_count": 36,
   "metadata": {
    "collapsed": false
   },
   "outputs": [
    {
     "name": "stdout",
     "output_type": "stream",
     "text": [
      "[  9.707e+71   4.039e+71   1.856e+70   1.056e+71   1.841e+70   6.992e+69]\n"
     ]
    },
    {
     "data": {
      "text/plain": [
       "True"
      ]
     },
     "execution_count": 36,
     "metadata": {},
     "output_type": "execute_result"
    }
   ],
   "source": [
    "M200 = np.linalg.matrix_power(M,200)\n",
    "x200 = M200.dot(start)\n",
    "print(x200)\n"
   ]
  },
  {
   "cell_type": "markdown",
   "metadata": {},
   "source": [
    "The results are visually the same as before (we could use `np.allclose(x,x200)` to check that all of the elements are nearly identical - we don't expect them to be exactly the same, because floating-point computations are involved).\n",
    "\n",
    "Calculate eigenvalues and eigenvectors:"
   ]
  },
  {
   "cell_type": "code",
   "execution_count": 51,
   "metadata": {
    "collapsed": true
   },
   "outputs": [],
   "source": [
    "e1 = np.linalg.eig(M)"
   ]
  },
  {
   "cell_type": "markdown",
   "metadata": {},
   "source": [
    "Print the eigenvalues (numpy returns the eigenvalues as a complex-valued array: it uses `j` to indicate the square root of -1) "
   ]
  },
  {
   "cell_type": "code",
   "execution_count": 39,
   "metadata": {
    "collapsed": false
   },
   "outputs": [
    {
     "data": {
      "text/plain": [
       "array([ 2.322+0.j   , -0.957+1.489j, -0.957-1.489j,  0.142+0.198j,\n",
       "        0.142-0.198j, -0.162+0.j   ])"
      ]
     },
     "execution_count": 39,
     "metadata": {},
     "output_type": "execute_result"
    }
   ],
   "source": [
    "e1[0]"
   ]
  },
  {
   "cell_type": "markdown",
   "metadata": {},
   "source": [
    "Compute the modulus of the eigenvalues:"
   ]
  },
  {
   "cell_type": "code",
   "execution_count": 40,
   "metadata": {
    "collapsed": false
   },
   "outputs": [
    {
     "data": {
      "text/plain": [
       "array([ 2.322,  1.77 ,  1.77 ,  0.244,  0.244,  0.162])"
      ]
     },
     "execution_count": 40,
     "metadata": {},
     "output_type": "execute_result"
    }
   ],
   "source": [
    "np.abs(e1[0])"
   ]
  },
  {
   "cell_type": "code",
   "execution_count": 59,
   "metadata": {
    "collapsed": false
   },
   "outputs": [
    {
     "data": {
      "text/plain": [
       "0.7622542516174049"
      ]
     },
     "execution_count": 59,
     "metadata": {},
     "output_type": "execute_result"
    }
   ],
   "source": [
    "np.abs(e1[0][1]/e1[0][0])\n"
   ]
  },
  {
   "cell_type": "code",
   "execution_count": 49,
   "metadata": {
    "collapsed": false
   },
   "outputs": [],
   "source": [
    "def zapsmall_im(x,tol=1e-8):\n",
    "    \"\"\"return Re(x) if imaginary part is small\"\"\"\n",
    "    if all(abs(np.imag(x))<tol):\n",
    "        return(np.real(x))\n",
    "    return(x)"
   ]
  },
  {
   "cell_type": "code",
   "execution_count": 50,
   "metadata": {
    "collapsed": false
   },
   "outputs": [
    {
     "data": {
      "text/plain": [
       "array([ 0.637,  0.265,  0.012,  0.069,  0.012,  0.005])"
      ]
     },
     "execution_count": 50,
     "metadata": {},
     "output_type": "execute_result"
    }
   ],
   "source": [
    "eigvec0 = e1[1][:,0]/np.sum(e1[1][:,0])\n",
    "zapsmall_im(eigvec0)"
   ]
  },
  {
   "cell_type": "markdown",
   "metadata": {},
   "source": [
    "Now run the model again, but keep track of the values for all time steps:"
   ]
  },
  {
   "cell_type": "code",
   "execution_count": 55,
   "metadata": {
    "collapsed": false
   },
   "outputs": [],
   "source": [
    "tvec = np.arange(50)\n",
    "x = np.zeros((len(tvec),len(start)))  ## set up space for results\n",
    "x[0,:] = start\n",
    "for t in tvec[1:]:\n",
    "        x[t,:] = M.dot(x[t-1,:])"
   ]
  },
  {
   "cell_type": "code",
   "execution_count": 56,
   "metadata": {
    "collapsed": false
   },
   "outputs": [
    {
     "data": {
      "image/png": "[encoded data removed]",
      "text/plain": [
       "<matplotlib.figure.Figure at 0x7f86cac76048>"
      ]
     },
     "metadata": {},
     "output_type": "display_data"
    }
   ],
   "source": [
    "%matplotlib inline\n",
    "plt.semilogy(tvec,x);  ## \"semi-log-y\" (i.e. y is on the log scale)"
   ]
  },
  {
   "cell_type": "markdown",
   "metadata": {},
   "source": [
    "[broadcasting rules](https://docs.scipy.org/doc/numpy-1.13.0/user/basics.broadcasting.html)"
   ]
  },
  {
   "cell_type": "code",
   "execution_count": 57,
   "metadata": {
    "collapsed": false
   },
   "outputs": [],
   "source": [
    "rowsums = np.sum(x,axis=1)\n",
    "rowtab = rowsums[:,np.newaxis]"
   ]
  },
  {
   "cell_type": "code",
   "execution_count": 58,
   "metadata": {
    "collapsed": false
   },
   "outputs": [
    {
     "data": {
      "text/plain": [
       "[<matplotlib.lines.Line2D at 0x7f86caec5630>]"
      ]
     },
     "execution_count": 58,
     "metadata": {},
     "output_type": "execute_result"
    },
    {
     "data": {
      "image/png": "[encoded data removed]",
      "text/plain": [
       "<matplotlib.figure.Figure at 0x7f86ca923dd8>"
      ]
     },
     "metadata": {},
     "output_type": "display_data"
    }
   ],
   "source": [
    "%matplotlib inline\n",
    "plt.plot(tvec,x/rowtab);\n",
    "## plt.plot(tvec,0.25**tvec)"
   ]
  },
  {
   "cell_type": "code",
   "execution_count": null,
   "metadata": {
    "collapsed": true
   },
   "outputs": [],
   "source": []
  }
 ],
 "metadata": {
  "kernelspec": {
   "display_name": "Python 3",
   "language": "python",
   "name": "python3"
  },
  "language_info": {
   "codemirror_mode": {
    "name": "ipython",
    "version": 3
   },
   "file_extension": ".py",
   "mimetype": "text/x-python",
   "name": "python",
   "nbconvert_exporter": "python",
   "pygments_lexer": "ipython3",
   "version": "3.4.3"
  }
 },
 "nbformat": 4,
 "nbformat_minor": 0
}
