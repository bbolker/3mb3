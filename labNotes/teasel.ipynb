{
 "cells": [
  {
   "cell_type": "markdown",
   "metadata": {},
   "source": [
    "# lab 2\n",
    "\n",
    "In this lab, we're going to run through the mechanics of simulating/analyzing the dynamics of a linear model. We're using the data from the model of teasel ([*Diptacus* species](https://en.wikipedia.org/wiki/Dipsacus)) in the textbook."
   ]
  },
  {
   "cell_type": "markdown",
   "metadata": {},
   "source": [
    "Import required libraries:"
   ]
  },
  {
   "cell_type": "code",
   "execution_count": 2,
   "metadata": {
    "collapsed": false
   },
   "outputs": [],
   "source": [
    "import numpy as np\n",
    "import matplotlib.pyplot as plt\n",
    "## limit the number of decimal places printed in output of numpy objects\n",
    "np.set_printoptions(precision=3)  "
   ]
  },
  {
   "cell_type": "markdown",
   "metadata": {},
   "source": [
    "Set up the matrix $M$ as a two-dimensional array: `((a11,a12,...),(a21,a22,...),...,(an1,an2))` (the third set of parentheses belongs to the `np.array()` function)."
   ]
  },
  {
   "cell_type": "code",
   "execution_count": 10,
   "metadata": {
    "collapsed": false
   },
   "outputs": [
    {
     "name": "stdout",
     "output_type": "stream",
     "text": [
      "[[  0.000e+00   0.000e+00   0.000e+00   0.000e+00   0.000e+00   3.224e+02]\n",
      " [  9.660e-01   0.000e+00   0.000e+00   0.000e+00   0.000e+00   0.000e+00]\n",
      " [  1.300e-02   1.000e-02   1.250e-01   0.000e+00   0.000e+00   3.448e+00]\n",
      " [  7.000e-03   0.000e+00   1.250e-01   2.380e-01   0.000e+00   3.017e+01]\n",
      " [  8.000e-03   0.000e+00   0.000e+00   2.450e-01   1.670e-01   8.620e-01]\n",
      " [  0.000e+00   0.000e+00   0.000e+00   2.300e-02   7.500e-01   0.000e+00]]\n"
     ]
    }
   ],
   "source": [
    "M = np.array(((0,0,0,0,0,322.38),\n",
    "              (0.966,0,0,0,0,0),\n",
    "              (0.013,0.010,0.125,0,0,3.448),\n",
    "              (0.007,0,0.125,0.238,0,30.17),\n",
    "              (0.008,0,0,0.245,0.167,0.862),\n",
    "              (0,0,0,0.023,0.75,0)))\n",
    "print(M)"
   ]
  },
  {
   "cell_type": "markdown",
   "metadata": {},
   "source": [
    "The life stages are (1-year dormant seeds; 2-year dormant seeds; small rosettes; medium rosettes; large rosettes; flowering). Two points to notice:\n",
    "\n",
    "- the first row represents fecundity/birth of new plants: only the last (largest) stage can contribute, but each individual contributes a lot (322 new plants).\n",
    "- plants always revert to one of the rosette stages after flowering ($\\mathbf M(6,6)=0$) [I'm indexing from zero so my Python-brain doesn't explode]\n",
    "\n",
    "Let's see what happens if we start from a single dormant seed."
   ]
  },
  {
   "cell_type": "code",
   "execution_count": 9,
   "metadata": {
    "collapsed": true
   },
   "outputs": [],
   "source": [
    "start = np.array((1,0,0,0,0,0))"
   ]
  },
  {
   "cell_type": "markdown",
   "metadata": {},
   "source": [
    "The simple way to solve this computationally is with a `for` loop. How big does the population get after 200 time steps?"
   ]
  },
  {
   "cell_type": "code",
   "execution_count": 11,
   "metadata": {
    "collapsed": false
   },
   "outputs": [
    {
     "name": "stdout",
     "output_type": "stream",
     "text": [
      "[  9.707e+71   4.039e+71   1.856e+70   1.056e+71   1.841e+70   6.992e+69]\n"
     ]
    }
   ],
   "source": [
    "x = start\n",
    "for t in range(200):\n",
    "    x = M.dot(x)\n",
    "print(x)"
   ]
  },
  {
   "cell_type": "markdown",
   "metadata": {},
   "source": [
    "We can do the same thing with a matrix-power operator: first we compute $\\mathbf M^{200}$, then multiply it by $x(0)$ (we could also do it all in one step):"
   ]
  },
  {
   "cell_type": "code",
   "execution_count": 12,
   "metadata": {
    "collapsed": false
   },
   "outputs": [
    {
     "name": "stdout",
     "output_type": "stream",
     "text": [
      "[  9.707e+71   4.039e+71   1.856e+70   1.056e+71   1.841e+70   6.992e+69]\n"
     ]
    }
   ],
   "source": [
    "M200 = np.linalg.matrix_power(M,200)\n",
    "x200 = M200.dot(start)\n",
    "print(x200)"
   ]
  },
  {
   "cell_type": "markdown",
   "metadata": {},
   "source": [
    "The results are visually the same as before (we could use `np.allclose(x,x200)` to check that all of the elements are nearly identical - we don't expect them to be exactly the same, because floating-point computations are involved).\n",
    "\n",
    "Calculate eigenvalues and eigenvectors:"
   ]
  },
  {
   "cell_type": "code",
   "execution_count": 13,
   "metadata": {
    "collapsed": true
   },
   "outputs": [],
   "source": [
    "e1 = np.linalg.eig(M)"
   ]
  },
  {
   "cell_type": "markdown",
   "metadata": {},
   "source": [
    "Print the eigenvalues (numpy returns the eigenvalues as a complex-valued array: it uses `j`, rather than `i`, to denote $\\sqrt{-1}$. This is standard notation in engineering.)"
   ]
  },
  {
   "cell_type": "code",
   "execution_count": 39,
   "metadata": {
    "collapsed": false
   },
   "outputs": [
    {
     "data": {
      "text/plain": [
       "array([ 2.322+0.j   , -0.957+1.489j, -0.957-1.489j,  0.142+0.198j,\n",
       "        0.142-0.198j, -0.162+0.j   ])"
      ]
     },
     "execution_count": 39,
     "metadata": {},
     "output_type": "execute_result"
    }
   ],
   "source": [
    "e1[0]"
   ]
  },
  {
   "cell_type": "markdown",
   "metadata": {},
   "source": [
    "Compute the modulus of the eigenvalues: `numpy` uses `abs` for modulus as well as absolute value"
   ]
  },
  {
   "cell_type": "code",
   "execution_count": 40,
   "metadata": {
    "collapsed": false
   },
   "outputs": [
    {
     "data": {
      "text/plain": [
       "array([ 2.322,  1.77 ,  1.77 ,  0.244,  0.244,  0.162])"
      ]
     },
     "execution_count": 40,
     "metadata": {},
     "output_type": "execute_result"
    }
   ],
   "source": [
    "np.abs(e1[0])"
   ]
  },
  {
   "cell_type": "code",
   "execution_count": 18,
   "metadata": {
    "collapsed": false
   },
   "outputs": [
    {
     "data": {
      "text/plain": [
       "0.7622542516174049"
      ]
     },
     "execution_count": 18,
     "metadata": {},
     "output_type": "execute_result"
    }
   ],
   "source": [
    "np.abs(e1[0][1]/e1[0][0])"
   ]
  },
  {
   "cell_type": "markdown",
   "metadata": {},
   "source": [
    "Now let's look at the eigenvector associated with the dominant eigenvalue.  This is the first (zeroth) *column* of the eigenvector matrix, which we extract using `[:,0]` (if this is unfamiliar to you, you can search for \"slicing\" in my [math 1mp notes](http://bbolker.github.io/math1mp/notes/week1.html) or search for \"Python slicing tutorial\" on the web - or ask your TA)"
   ]
  },
  {
   "cell_type": "code",
   "execution_count": 37,
   "metadata": {
    "collapsed": false
   },
   "outputs": [
    {
     "name": "stdout",
     "output_type": "stream",
     "text": [
      "[-0.918+0.j -0.382+0.j -0.018+0.j -0.100+0.j -0.017+0.j -0.007+0.j]\n"
     ]
    }
   ],
   "source": [
    "e10 = e1[1][:,0]\n",
    "print(e10)"
   ]
  },
  {
   "cell_type": "markdown",
   "metadata": {},
   "source": [
    "Because the eigenvector matrix contains some complex values, the first column is stored as complex, even though the imaginary parts are all zero.  We can extract the real part:"
   ]
  },
  {
   "cell_type": "code",
   "execution_count": 39,
   "metadata": {
    "collapsed": false
   },
   "outputs": [
    {
     "name": "stdout",
     "output_type": "stream",
     "text": [
      "[-0.918 -0.382 -0.018 -0.1   -0.017 -0.007]\n"
     ]
    }
   ],
   "source": [
    "e10 = np.real(e10)\n",
    "print(e10)"
   ]
  },
  {
   "cell_type": "markdown",
   "metadata": {},
   "source": [
    "If we want this to sum to 1 (so it will represent the *stable stage distribution*), we can divide it by its total:"
   ]
  },
  {
   "cell_type": "code",
   "execution_count": 40,
   "metadata": {
    "collapsed": false,
    "scrolled": true
   },
   "outputs": [
    {
     "name": "stdout",
     "output_type": "stream",
     "text": [
      "[ 0.637  0.265  0.012  0.069  0.012  0.005]\n"
     ]
    }
   ],
   "source": [
    "print(e10/np.sum(e10))"
   ]
  },
  {
   "cell_type": "markdown",
   "metadata": {},
   "source": [
    "## Pictures\n",
    "\n",
    "Now we're going to run the model again, but keep track of the values for all time steps:"
   ]
  },
  {
   "cell_type": "code",
   "execution_count": 42,
   "metadata": {
    "collapsed": false
   },
   "outputs": [],
   "source": [
    "tvec = np.arange(50)\n",
    "x = np.zeros((len(tvec),len(start)))  ## set up a 2D array of zeros for the results\n",
    "x[0,:] = start\n",
    "for t in tvec[1:]:\n",
    "        x[t,:] = M.dot(x[t-1,:])"
   ]
  },
  {
   "cell_type": "markdown",
   "metadata": {},
   "source": [
    "For any linear model with an unstable zero equilibrium (i.e. geometric growth) and a dominant eigenvalue that is more than slightly above 1, the numbers will get ridiculous if we run it for very long (recall the population sizes of $10^{70}$ we saw above at $t=200$). It's convenient to plot such geometric growth curves on a *semi-log* scale, i.e. with a log-y axis:"
   ]
  },
  {
   "cell_type": "code",
   "execution_count": 47,
   "metadata": {
    "collapsed": false
   },
   "outputs": [
    {
     "data": {
      "image/png": "[encoded data removed]",
      "text/plain": [
       "<matplotlib.figure.Figure at 0x7fab9bdd2908>"
      ]
     },
     "metadata": {},
     "output_type": "display_data"
    }
   ],
   "source": [
    "%matplotlib inline\n",
    "plt.semilogy(tvec,x);  ## \"semi-log-y\" (i.e. y is on the log scale)\n",
    "plt.xlabel(\"time\")\n",
    "plt.ylabel(\"population (compartment) size\");"
   ]
  },
  {
   "cell_type": "markdown",
   "metadata": {},
   "source": [
    "It would be nice to know the *proportion* of the population in each category (which is supposed to equilibrate to the stable stage distribution). We can use a `for` loop to divide each row (the population sizes at a specified time) by its total (the total population size):\n"
   ]
  },
  {
   "cell_type": "code",
   "execution_count": 51,
   "metadata": {
    "collapsed": false
   },
   "outputs": [],
   "source": [
    "x_scaled = x  ## copy array to get ready\n",
    "for r in range(x.shape[0]):\n",
    "    x_scaled[r,:] = x[r,:]/np.sum(x[r,:])"
   ]
  },
  {
   "cell_type": "markdown",
   "metadata": {},
   "source": [
    "If your brain is full now, you can skim over the next few chunks. It's more compact to compute the vector of total population sizes (i.e. the row sums) all at once, and then divide the population table by the row-sum vector. When applied to a 2D array, `np.sum()` computes the entire sum ($\\sum_{i,j} x_{ij}$) by default, but we can use the `axis=` argument to compute column sums (`axis=0`) or row sums (`axis=1`) instead."
   ]
  },
  {
   "cell_type": "code",
   "execution_count": 52,
   "metadata": {
    "collapsed": true
   },
   "outputs": [],
   "source": [
    "rowsums = np.sum(x,axis=1) "
   ]
  },
  {
   "cell_type": "markdown",
   "metadata": {},
   "source": [
    "Now we use `np.newaxis` to tell NumPy that we want a column vector, i.e. a $n \\times 1$ array. "
   ]
  },
  {
   "cell_type": "code",
   "execution_count": 53,
   "metadata": {
    "collapsed": false
   },
   "outputs": [
    {
     "name": "stdout",
     "output_type": "stream",
     "text": [
      "(50, 1)\n"
     ]
    }
   ],
   "source": [
    "rowtab = rowsums[:,np.newaxis] \n",
    "print(rowtab.shape)"
   ]
  },
  {
   "cell_type": "markdown",
   "metadata": {},
   "source": [
    "When we ask NumPy to divide a matrix by a column vector, it knows the right thing to do (i.e., divide each row of the matrix by the corresponding element of the vector, just as we did above)."
   ]
  },
  {
   "cell_type": "code",
   "execution_count": 57,
   "metadata": {
    "collapsed": false
   },
   "outputs": [],
   "source": [
    "x_scaled = x/rowtab ## same as above"
   ]
  },
  {
   "cell_type": "markdown",
   "metadata": {},
   "source": [
    "Now we can plot the results:"
   ]
  },
  {
   "cell_type": "code",
   "execution_count": 57,
   "metadata": {
    "collapsed": false
   },
   "outputs": [
    {
     "data": {
      "image/png": "[encoded data removed]",
      "text/plain": [
       "<matplotlib.figure.Figure at 0x7fab9b80fba8>"
      ]
     },
     "metadata": {},
     "output_type": "display_data"
    }
   ],
   "source": [
    "%matplotlib inline\n",
    "plt.plot(tvec,x_scaled)\n",
    "plt.xlabel(\"time\")\n",
    "plt.ylabel(\"proportion of population\");\n",
    "ncat = x_scaled.shape[1] ## number of columns\n",
    "plt.legend(range(ncat));"
   ]
  }
 ],
 "metadata": {
  "kernelspec": {
   "display_name": "Python 3",
   "language": "python",
   "name": "python3"
  },
  "language_info": {
   "codemirror_mode": {
    "name": "ipython",
    "version": 3
   },
   "file_extension": ".py",
   "mimetype": "text/x-python",
   "name": "python",
   "nbconvert_exporter": "python",
   "pygments_lexer": "ipython3",
   "version": "3.4.3"
  }
 },
 "nbformat": 4,
 "nbformat_minor": 0
}
