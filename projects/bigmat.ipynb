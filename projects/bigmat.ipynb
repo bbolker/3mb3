{
 "cells": [
  {
   "cell_type": "code",
   "execution_count": 3,
   "metadata": {
    "collapsed": false
   },
   "outputs": [],
   "source": [
    "from sympy import *\n",
    "a, b, c, d = symbols(\"a b c d\")"
   ]
  },
  {
   "cell_type": "markdown",
   "metadata": {},
   "source": [
    "I started out (before I looked at your specific example) by setting up a slightly simpler/simplified version ..."
   ]
  },
  {
   "cell_type": "code",
   "execution_count": 10,
   "metadata": {
    "collapsed": false
   },
   "outputs": [
    {
     "name": "stdout",
     "output_type": "stream",
     "text": [
      "⎡          a              ⎤\n",
      "⎢-a + 1    ─       0     0⎥\n",
      "⎢          2              ⎥\n",
      "⎢                         ⎥\n",
      "⎢                  a      ⎥\n",
      "⎢  a     -a + 1    ─     0⎥\n",
      "⎢                  2      ⎥\n",
      "⎢                         ⎥\n",
      "⎢          a              ⎥\n",
      "⎢  0       ─     -a + 1  0⎥\n",
      "⎢          2              ⎥\n",
      "⎢                         ⎥\n",
      "⎢                  a      ⎥\n",
      "⎢  0       0       ─     1⎥\n",
      "⎣                  2      ⎦\n"
     ]
    }
   ],
   "source": [
    "M = Matrix([[1-a,a/2,0,0],[a,1-a,a/2,0],[0,a/2,1-a,0],[0,0,a/2,1]])\n",
    "pprint(M)"
   ]
  },
  {
   "cell_type": "code",
   "execution_count": 38,
   "metadata": {
    "collapsed": false
   },
   "outputs": [
    {
     "name": "stdout",
     "output_type": "stream",
     "text": [
      "Matrix([[1, 1, 1, 1]])\n"
     ]
    }
   ],
   "source": [
    "## column summation is done in sympy by multiplying by the appropriate\n",
    "## row vector of ones ...\n",
    "def colsums(M):\n",
    "    ones = Matrix([[1]*M.shape[1]])\n",
    "    return(ones*M)\n"
   ]
  },
  {
   "cell_type": "markdown",
   "metadata": {},
   "source": [
    "Confirm row sums == 1 ..."
   ]
  },
  {
   "cell_type": "code",
   "execution_count": null,
   "metadata": {
    "collapsed": true
   },
   "outputs": [],
   "source": [
    "print(colsums(M))"
   ]
  },
  {
   "cell_type": "markdown",
   "metadata": {},
   "source": [
    "Pull out $A$ and $B$ matrices, compute $B(I-A)^{-1}$ ..."
   ]
  },
  {
   "cell_type": "code",
   "execution_count": null,
   "metadata": {
    "collapsed": true
   },
   "outputs": [],
   "source": [
    "n = M.shape[0]\n",
    "z = 1 # number of absorbing states\n",
    "A = M[:n-z,:n-z]\n",
    "B = M[-1:,:n-z]\n",
    "F = (eye(n-z)-A)**(-1)\n",
    "pprint(B*F)"
   ]
  },
  {
   "cell_type": "markdown",
   "metadata": {},
   "source": [
    "Moving on to your example:"
   ]
  },
  {
   "cell_type": "code",
   "execution_count": 40,
   "metadata": {
    "collapsed": false,
    "scrolled": true
   },
   "outputs": [
    {
     "name": "stdout",
     "output_type": "stream",
     "text": [
      "⎡        (T + 1)⋅(-ρ + 1)                       ⎤\n",
      "⎢  ρ     ────────────────           0          0⎥\n",
      "⎢               2                               ⎥\n",
      "⎢                                               ⎥\n",
      "⎢                           (T + 1)⋅(-ρ + 1)    ⎥\n",
      "⎢-ρ + 1          ρ          ────────────────   0⎥\n",
      "⎢                                  2            ⎥\n",
      "⎢                                               ⎥\n",
      "⎢        (-T + 1)⋅(-ρ + 1)                      ⎥\n",
      "⎢  0     ─────────────────          ρ          0⎥\n",
      "⎢                2                              ⎥\n",
      "⎢                                               ⎥\n",
      "⎢                           (-T + 1)⋅(-ρ + 1)   ⎥\n",
      "⎢  0             0          ─────────────────  1⎥\n",
      "⎣                                   2           ⎦\n"
     ]
    }
   ],
   "source": [
    "rho, T = symbols(\"rho T\")\n",
    "c1 = (1-rho)*(1+T)/2\n",
    "c2 = (1-rho)*(1-T)/2\n",
    "M2 = Matrix([[rho,c1,0,0],[1-rho,rho,c1,0],[0,c2,rho,0],[0,0,c2,1]])\n",
    "pprint(M2)"
   ]
  },
  {
   "cell_type": "markdown",
   "metadata": {},
   "source": [
    "Here it turns out we need `simplify()` to confirm that the row sums are 1 ... `sympy` isn't quite clever enough to do it automatically ..."
   ]
  },
  {
   "cell_type": "code",
   "execution_count": 46,
   "metadata": {
    "collapsed": false,
    "scrolled": true
   },
   "outputs": [
    {
     "name": "stdout",
     "output_type": "stream",
     "text": [
      "Matrix([[1, 1, 1, 1]])\n"
     ]
    }
   ],
   "source": [
    "cc = colsums(M2)\n",
    "print(simplify(cc))"
   ]
  },
  {
   "cell_type": "markdown",
   "metadata": {},
   "source": [
    "Alternatively, we can use `.evalf()` to substitute in numeric values (hopefully generic) ..."
   ]
  },
  {
   "cell_type": "code",
   "execution_count": 44,
   "metadata": {
    "collapsed": false,
    "scrolled": false
   },
   "outputs": [
    {
     "data": {
      "text/plain": [
       "Matrix([[1.0, 1.0, 1.0, 1.0]])"
      ]
     },
     "execution_count": 44,
     "metadata": {},
     "output_type": "execute_result"
    }
   ],
   "source": [
    "cc.evalf(subs={rho: 0.1, T:0.5})"
   ]
  },
  {
   "cell_type": "markdown",
   "metadata": {},
   "source": [
    "Now redo the computation of absorbing states."
   ]
  },
  {
   "cell_type": "code",
   "execution_count": 56,
   "metadata": {
    "collapsed": false,
    "scrolled": true
   },
   "outputs": [
    {
     "name": "stdout",
     "output_type": "stream",
     "text": [
      "⎡         2                            2         2                      ⎤\n",
      "⎢-(-T + 1) ⋅(-ρ + 1)⋅(ρ - 1)   (-T + 1) ⋅(-ρ + 1)     (-T + 1)⋅(-ρ + 1) ⎥\n",
      "⎢────────────────────────────  ────────────────────  ───────────────────⎥\n",
      "⎢                       2                         2    ⎛T⋅ρ   T   ρ   1⎞⎥\n",
      "⎢      ⎛T⋅ρ   T   ρ   1⎞         ⎛T⋅ρ   T   ρ   1⎞   2⋅⎜─── - ─ - ─ + ─⎟⎥\n",
      "⎢    4⋅⎜─── - ─ - ─ + ─⎟       4⋅⎜─── - ─ - ─ + ─⎟     ⎝ 2    2   2   2⎠⎥\n",
      "⎣      ⎝ 2    2   2   2⎠         ⎝ 2    2   2   2⎠                      ⎦\n"
     ]
    }
   ],
   "source": [
    "A = M2[:n-z,:n-z]\n",
    "B = M2[-1:,:n-z]\n",
    "F = (eye(n-z)-A)**(-1)\n",
    "pprint(B*F)"
   ]
  },
  {
   "cell_type": "markdown",
   "metadata": {},
   "source": [
    "This looks ugly, but simplifying shows it's OK."
   ]
  },
  {
   "cell_type": "code",
   "execution_count": 57,
   "metadata": {
    "collapsed": false
   },
   "outputs": [
    {
     "name": "stdout",
     "output_type": "stream",
     "text": [
      "[1  1  1]\n"
     ]
    }
   ],
   "source": [
    "pprint(simplify(B*F))"
   ]
  },
  {
   "cell_type": "markdown",
   "metadata": {},
   "source": [
    "Or substitute numeric values ..."
   ]
  },
  {
   "cell_type": "code",
   "execution_count": null,
   "metadata": {
    "collapsed": true
   },
   "outputs": [],
   "source": [
    "(B*F).evalf(subs={rho: 0.1, T:0.5})"
   ]
  },
  {
   "cell_type": "markdown",
   "metadata": {},
   "source": [
    "Unfortunately, $F$ (which is what we'd really like to know about, since it captures non-trivial information about expected residency times before absorption) doesn't simplify as nicely."
   ]
  },
  {
   "cell_type": "code",
   "execution_count": 61,
   "metadata": {
    "collapsed": false
   },
   "outputs": [
    {
     "name": "stdout",
     "output_type": "stream",
     "text": [
      "Matrix([\n",
      "[-(T**2 + 3)/(T**2*rho - T**2 - 2*T*rho + 2*T + rho - 1), -(2*T + 2)/(T**2*rho - T**2 - 2*T*rho + 2*T + rho - 1), (T + 1)**2*(-rho + 1)/(T*rho - T - rho + 1)**2],\n",
      "[         -4/(T**2*rho - T**2 - 2*T*rho + 2*T + rho - 1),         -4/(T**2*rho - T**2 - 2*T*rho + 2*T + rho - 1),  -2*(T + 1)*(rho - 1)/(T*rho - T - rho + 1)**2],\n",
      "[                                2/(T*rho - T - rho + 1),                                2/(T*rho - T - rho + 1),                        2/(T*rho - T - rho + 1)]])\n"
     ]
    }
   ],
   "source": [
    "print(simplify(F))"
   ]
  },
  {
   "cell_type": "markdown",
   "metadata": {},
   "source": [
    "We could hope that the column sums (if not the elements themselves) were simple - but no ... "
   ]
  },
  {
   "cell_type": "code",
   "execution_count": 62,
   "metadata": {
    "collapsed": false,
    "scrolled": true
   },
   "outputs": [
    {
     "name": "stdout",
     "output_type": "stream",
     "text": [
      "Matrix([[(-T**2 + 2*T - 9)/(T**2*rho - T**2 - 2*T*rho + 2*T + rho - 1), -8/(T**2*rho - T**2 - 2*T*rho + 2*T + rho - 1), -(T**2 + 2*T + 5)/(T**2*rho - T**2 - 2*T*rho + 2*T + rho - 1)]])\n"
     ]
    }
   ],
   "source": [
    "print(simplify(colsums(F)))"
   ]
  },
  {
   "cell_type": "markdown",
   "metadata": {},
   "source": [
    "What if we set the \"tilt\" to zero? Does it simplify then?"
   ]
  },
  {
   "cell_type": "code",
   "execution_count": 66,
   "metadata": {
    "collapsed": false
   },
   "outputs": [
    {
     "data": {
      "text/plain": [
       "Matrix([[-9/(rho - 1), -8/(rho - 1), -5/(rho - 1)]])"
      ]
     },
     "execution_count": 66,
     "metadata": {},
     "output_type": "execute_result"
    }
   ],
   "source": [
    "simplify(colsums(F).subs(T,0))"
   ]
  },
  {
   "cell_type": "markdown",
   "metadata": {},
   "source": [
    "Only a little bit. Next step: make the matrix a little larger (with the same pattern) and see if the pattern of column sums is identifiable"
   ]
  }
 ],
 "metadata": {
  "kernelspec": {
   "display_name": "Python 3",
   "language": "python",
   "name": "python3"
  },
  "language_info": {
   "codemirror_mode": {
    "name": "ipython",
    "version": 3
   },
   "file_extension": ".py",
   "mimetype": "text/x-python",
   "name": "python",
   "nbconvert_exporter": "python",
   "pygments_lexer": "ipython3",
   "version": "3.4.3"
  }
 },
 "nbformat": 4,
 "nbformat_minor": 0
}
