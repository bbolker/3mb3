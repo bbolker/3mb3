{
 "cells": [
  {
   "cell_type": "markdown",
   "metadata": {},
   "source": [
    "## next-generation matrix for SEIR equations\n",
    "\n",
    "$\\newcommand{\\rzero}{{\\cal R}_0}$\n",
    "\n",
    "The \"next-generation matrix\" approach is a formal method for deriving the intrinsic reproductive number ($\\rzero$) for an epidemic model. It is most useful when one wants a rigorous definition for $\\rzero$, especially in relatively complex epidemic models where the previous informal approach - identifying $\\rzero$ as the product of (1) the *per capita* rate of infection in a wholly susceptible population and (2) the duration of infection, where (1) and (2) are computed heuristically from the model definition - is insufficient. Some material taken from [here](https://web.stanford.edu/~jhj1/teachingdocs/Jones-Epidemics050308.pdf), but modified/further explained. Notation follows van den Driessche and Watmough (2002).\n",
    "\n",
    "Suppose we have the SEIR model, with natural mortality ($\\mu$) but without vital dynamics (i.e., no births/entry in to the susceptible class, not that this really matters for the current computation):\n",
    "\n",
    "$$\n",
    "\\begin{split}\n",
    "\\frac{dS}{dt} & = -\\beta S I \\\\\n",
    "\\frac{dE}{dt} & = \\beta S I - (\\mu + \\sigma) E \\\\\n",
    "\\frac{dI}{dt} & = \\sigma E - (\\mu + \\gamma) I \\\\\n",
    "\\frac{dR}{dt} & = \\gamma I - \\mu R\n",
    "\\end{split}\n",
    "$$\n",
    "\n",
    "$$\n",
    "\\newcommand{\\F}{\\cal F}\n",
    "\\newcommand{\\Vm}{\\cal V^{-}}\n",
    "$$\n",
    "$$\n",
    "\\newcommand{\\Vp}{\\cal V^{+}}\n",
    "\\newcommand{\\V}{\\cal V}\n",
    "$$\n",
    "\n",
    "For the next-generation matrix, we want to identify the infected compartments ($E$ and $I$) and the transition sets $\\F$ (infection), $\\Vm$ (movement *out of* infected compartments), and $\\Vp$ (\"rate of transfer of individuals into [infected compartments] by all other means\"); $\\V \\equiv \\Vm-\\Vp$. *This is the tricky part.*\n",
    "\n",
    "We will define\n",
    "$$\n",
    "\\begin{split}\n",
    "\\F & = \\{ \\beta S I, 0 \\} \\\\\n",
    "\\Vm & = \\{ (\\sigma+\\mu) E, (\\gamma+\\mu) I \\} \\\\\n",
    "\\Vp & = \\{ 0, \\sigma E \\}\n",
    "\\end{split}\n",
    "$$\n",
    "now we want the Jacobians of $\\F$ and $\\V$, evaluated at the disease-free equilibrium ($\\{S=N,E=I=R=0\\}$) denoted $F$ and $V$ respectively.\n",
    "We get:\n",
    "$$\n",
    "\\begin{split}\n",
    "F& = \\left(\\begin{array}{cc} 0 & \\beta N \\\\ 0 & 0 \\end{array} \\right)\n",
    "\\\\\n",
    "V & = \\left(\\begin{array}{cc} \\sigma+\\mu & 0 \\\\ -\\sigma & \\gamma+\\mu \\end{array} \\right)\n",
    "\\end{split}\n",
    "$$\n",
    "\n",
    "so\n",
    "$$\n",
    "V^{-1} = \\left(\\begin{array}{cc} 1/(\\sigma+\\mu) & 0 \\\\ \\sigma/((\\gamma+\\mu)(\\sigma+\\mu)) & 1/(\\gamma+\\mu) \\end{array} \\right)\n",
    "$$\n",
    "\n",
    "and\n",
    "\n",
    "$$\n",
    "G = F V^{-1} = \\left(\\begin{array}{cc} \\beta\\sigma N/((\\sigma+\\mu)(\\gamma+\\mu)) & \\beta N/(\\gamma+\\mu) \\\\ 0 & 0 \\end{array} \\right)\n",
    "$$\n",
    "\n",
    "... so it's clear that the eigenvalues are $G_{11}=\\frac{\\beta\\sigma N}{(\\sigma+\\mu)(\\gamma+\\mu)}$ and 0; since all the parameters are positive, $G_{11}$ is the spectral radius (largest eigenvalue), which corresponds to ${\\cal R}_0$.\n",
    "\n",
    "If we were doing this the old-fashioned/informal way, we would argue as follows: \"the rate at which a single infectious person generates new infections in a population of susceptibles of size $N$ (we don't worry about $N$ vs $N-1$ in this context) is $\\beta S I = (\\beta N) \\cdot 1 = \\beta N$, but we have to discount this by the fraction $\\sigma/(\\sigma + \\mu)$ that survive the exposed period to become infectious. The expected duration of the infectious period is the inverse of the *per capita* rate at which infectious people leave the $I$ class, or $1/(\\gamma+\\mu)$, so we have\n",
    "$$\n",
    "\\newcommand{\\fsig}{\\frac{\\sigma}{\\sigma+\\mu}}\n",
    "{\\cal R}_0 = \\underbrace{\\beta N \\vphantom{\\fsig}}_{\\text{new infections}} \\cdot \\underbrace{\\fsig}_{\\text{discounting}} \\cdot\n",
    "\\underbrace{\\frac{1}{\\gamma+\\mu}}_{\\text{infectious duration}} \\quad .\n",
    "$$\n",
    "\n",
    "## lazy linear algebra\n",
    "\n",
    "If we're too lazy or careful to get the linear algebra right, we can use `sympy`:"
   ]
  },
  {
   "cell_type": "code",
   "execution_count": 1,
   "metadata": {
    "collapsed": true
   },
   "outputs": [],
   "source": [
    "from sympy import *\n",
    "beta, N, mu, sigma, gamma = symbols(\"beta N mu sigma gamma\")"
   ]
  },
  {
   "cell_type": "code",
   "execution_count": 2,
   "metadata": {
    "collapsed": true
   },
   "outputs": [],
   "source": [
    "F = Matrix([[0,beta*N],[0,0]])\n",
    "V = Matrix([[sigma+mu,0],[-sigma,gamma+mu]])"
   ]
  },
  {
   "cell_type": "code",
   "execution_count": 3,
   "metadata": {
    "collapsed": false,
    "scrolled": true
   },
   "outputs": [
    {
     "name": "stdout",
     "output_type": "stream",
     "text": [
      "Matrix([[1/(mu + sigma), 0], [sigma/((gamma + mu)*(mu + sigma)), 1/(gamma + mu)]])\n"
     ]
    }
   ],
   "source": [
    "print(V**(-1))  ## sympy uses M**(-1) for matrix inversion"
   ]
  },
  {
   "cell_type": "code",
   "execution_count": 4,
   "metadata": {
    "collapsed": false
   },
   "outputs": [
    {
     "name": "stdout",
     "output_type": "stream",
     "text": [
      "Matrix([[N*beta*sigma/((gamma + mu)*(mu + sigma)), N*beta/(gamma + mu)], [0, 0]])\n"
     ]
    }
   ],
   "source": [
    "G = F*(V**(-1))\n",
    "print(G)"
   ]
  },
  {
   "cell_type": "code",
   "execution_count": 5,
   "metadata": {
    "collapsed": false,
    "scrolled": true
   },
   "outputs": [
    {
     "data": {
      "text/plain": [
       "{0: 1, N*beta*sigma/((gamma + mu)*(mu + sigma)): 1}"
      ]
     },
     "execution_count": 5,
     "metadata": {},
     "output_type": "execute_result"
    }
   ],
   "source": [
    "G.eigenvals()"
   ]
  },
  {
   "cell_type": "markdown",
   "metadata": {},
   "source": [
    "## Notes\n",
    "\n",
    "$\\newcommand{\\rzero}{{\\cal R}_0}$\n",
    "\n",
    "\n",
    "In general the next-generation matrix and the informal approach give identical answers. In models with multiple life stages (e.g. host-vector models or models of parasites with complex life cycles) there is an important distinction as to whether one counts the overall generation time as the *product* of the per-stage generation times ($g_{\\text{tot}} = \\prod_{i=1}^n g_i$) or their *geometric mean* ($g_{\\text{tot}} = \\left( \\prod_{i=1}^n g_i \\right)^{1/n}$). These definitions coincide at the invasion threshold ($\\rzero=1$), but differ away from it. When considering $1-1/\\rzero$ as the critical level of control, the important distinction is whether the intervention being considered interrupts all stages of transmission (e.g. bed nets keeping infected mosquitos from biting susceptible humans and *vice versa*) or only a single stage (e.g. an intervention that acts selectively on infected mosquitos).\n",
    "\n",
    "## References\n",
    "\n",
    "van den Driessche, P., and James Watmough. “Reproduction Numbers and Sub-Threshold Endemic Equilibria for Compartmental Models of Disease Transmission.” Mathematical Biosciences 180, no. 1 (November 1, 2002): 29–48. https://doi.org/10.1016/S0025-5564(02)00108-6.\n"
   ]
  },
  {
   "cell_type": "code",
   "execution_count": null,
   "metadata": {
    "collapsed": true
   },
   "outputs": [],
   "source": []
  }
 ],
 "metadata": {
  "kernelspec": {
   "display_name": "Python 3",
   "language": "python",
   "name": "python3"
  },
  "language_info": {
   "codemirror_mode": {
    "name": "ipython",
    "version": 3
   },
   "file_extension": ".py",
   "mimetype": "text/x-python",
   "name": "python",
   "nbconvert_exporter": "python",
   "pygments_lexer": "ipython3",
   "version": "3.4.3"
  }
 },
 "nbformat": 4,
 "nbformat_minor": 0
}
