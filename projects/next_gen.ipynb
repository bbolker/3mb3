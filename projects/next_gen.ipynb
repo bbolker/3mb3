{
 "cells": [
  {
   "cell_type": "markdown",
   "metadata": {},
   "source": [
    "## next-generation matrix for SEIR equations\n",
    "\n",
    "Some material taken from [here](https://web.stanford.edu/~jhj1/teachingdocs/Jones-Epidemics050308.pdf), but modified/further explained.\n",
    "\n",
    "Suppose we have the SEIR model, with natural mortality ($\\mu$) but without vital dynamics (i.e., no births/entry in to the susceptible class, not that this really matters for the current computation):\n",
    "\n",
    "$$\n",
    "\\begin{split}\n",
    "\\frac{dS}{dt} & = -\\beta S I \\\\\n",
    "\\frac{dE}{dt} & = \\beta S I - (\\mu + \\sigma) E \\\\\n",
    "\\frac{dI}{dt} & = \\sigma E - (\\mu + \\gamma) I \\\\\n",
    "\\frac{dR}{dt} & = \\gamma I - \\mu R\n",
    "\\end{split}\n",
    "$$\n",
    "\n",
    "$$\n",
    "\\newcommand{\\F}{\\cal F}\n",
    "\\newcommand{\\Vm}{\\cal V^{-}}\n",
    "$$\n",
    "$$\n",
    "\\newcommand{\\Vp}{\\cal V^{+}}\n",
    "\\newcommand{\\V}{\\cal V}\n",
    "$$\n",
    "\n",
    "For the next-generation matrix, we want to identify the infected compartments ($E$ and $I$) and the transition sets $\\F$ (infection), $\\Vm$ (movement out of infected compartments), and $\\Vp$ (\"rate of transfer of individuals into [infected compartments] by all other means\"); $\\V \\equiv \\Vm-\\Vp$. *This is the tricky part.*\n",
    "\n",
    "We will define\n",
    "$$\n",
    "\\begin{split}\n",
    "\\F & = \\{ \\beta S I, 0 \\} \\\\\n",
    "\\Vm & = \\{ -(\\sigma+\\mu) E, -(\\gamma+\\mu) I \\} \\\\\n",
    "\\Vp & = \\{ 0, \\sigma E \\}\n",
    "\\end{split}\n",
    "$$\n",
    "now we want the Jacobians of $\\F$ and $\\V$, evaluated at the disease-free equilibrium ($\\{S=N,E=I=R=0\\}$) denoted $F$ and $V$ respectively.\n",
    "We get:\n",
    "$$\n",
    "\\begin{split}\n",
    "F& = \\left(\\begin{array}{cc} 0 & \\beta N \\\\ 0 & 0 \\end{array} \\right)\n",
    "\\\\\n",
    "V & = \\left(\\begin{array}{cc} \\sigma+\\mu & 0 \\\\ -\\sigma & \\gamma+\\mu \\end{array} \\right)\n",
    "\\end{split}\n",
    "$$\n",
    "\n",
    "so\n",
    "$$\n",
    "V^{-1} = \\left(\\begin{array}{cc} 1/(\\sigma+\\mu) & 0 \\\\ \\sigma/((\\gamma+\\mu)(\\sigma+\\mu)) & 1/(\\gamma+\\mu) \\end{array} \\right)\n",
    "$$\n",
    "\n",
    "and\n",
    "\n",
    "$$\n",
    "G = F V^{-1} = \\left(\\begin{array}{cc} \\beta\\sigma N/((\\sigma+\\mu)(\\gamma+\\mu)) & \\beta N/(\\gamma+\\mu) \\\\ 0 & 0 \\end{array} \\right)\n",
    "$$\n",
    "\n",
    "... so it's clear that the eigenvalues are $G_{11}=\\frac{\\beta\\sigma N}{(\\sigma+\\mu)(\\gamma+\\mu)}$ and 0; since all the parameters are positive, $G_{11}$ is the spectral radius (largest eigenvalue), which corresponds to ${\\cal R}_0$.\n",
    "\n",
    "If we were doing this the old-fashioned/informal way, we would argue as follows: \"the rate at which a single infectious person generates new infections in a population of susceptibles of size $N$ (we don't worry about $N$ vs $N-1$ in this context) is $\\beta S I = (\\beta N) \\cdot 1 = \\beta N$, but we have to discount this by the fraction $\\sigma/(\\sigma + \\mu)$ that survive the exposed period to become infectious. The expected duration of the infectious period is the inverse of the *per capita* rate at which infectious people leave the $I$ class, or $1/(\\gamma+\\mu)$, so we have\n",
    "$$\n",
    "\\newcommand{\\fsig}{\\frac{\\sigma}{\\sigma+\\mu}}\n",
    "{\\cal R}_0 = \\underbrace{\\beta N \\vphantom{\\fsig}}_{\\text{new infections}} \\cdot \\underbrace{\\fsig}_{\\text{discounting}} \\cdot\n",
    "\\underbrace{\\frac{1}{\\gamma+\\mu}}_{\\text{infectious duration}} \\quad .\n",
    "$$\n",
    "\n",
    "## lazy linear algebra\n",
    "\n",
    "If we're too lazy or careful to get the linear algebra right, we can use `sympy`:"
   ]
  },
  {
   "cell_type": "code",
   "execution_count": 1,
   "metadata": {
    "collapsed": true
   },
   "outputs": [],
   "source": [
    "from sympy import *\n",
    "beta, N, mu, sigma, gamma = symbols(\"beta N mu sigma gamma\")"
   ]
  },
  {
   "cell_type": "code",
   "execution_count": 17,
   "metadata": {
    "collapsed": true
   },
   "outputs": [],
   "source": [
    "F = Matrix([[0,beta*N],[0,0]])\n",
    "V = Matrix([[sigma+mu,0],[-sigma,gamma+mu]])"
   ]
  },
  {
   "cell_type": "code",
   "execution_count": 20,
   "metadata": {
    "collapsed": false,
    "scrolled": true
   },
   "outputs": [
    {
     "name": "stdout",
     "output_type": "stream",
     "text": [
      "Matrix([[1/(mu + sigma), 0], [sigma/((gamma + mu)*(mu + sigma)), 1/(gamma + mu)]])\n"
     ]
    }
   ],
   "source": [
    "print(V**(-1))  ## sympy uses M**(-1) for matrix inversion"
   ]
  },
  {
   "cell_type": "code",
   "execution_count": 18,
   "metadata": {
    "collapsed": false
   },
   "outputs": [
    {
     "name": "stdout",
     "output_type": "stream",
     "text": [
      "Matrix([[N*beta*sigma/((gamma + mu)*(mu + sigma)), N*beta/(gamma + mu)], [0, 0]])\n"
     ]
    }
   ],
   "source": [
    "G = F*(V**(-1))\n",
    "print(G)"
   ]
  },
  {
   "cell_type": "code",
   "execution_count": 19,
   "metadata": {
    "collapsed": false
   },
   "outputs": [
    {
     "data": {
      "text/plain": [
       "{0: 1, N*beta*sigma/((gamma + mu)*(mu + sigma)): 1}"
      ]
     },
     "execution_count": 19,
     "metadata": {},
     "output_type": "execute_result"
    }
   ],
   "source": [
    "G.eigenvals()"
   ]
  }
 ],
 "metadata": {
  "kernelspec": {
   "display_name": "Python 3",
   "language": "python",
   "name": "python3"
  },
  "language_info": {
   "codemirror_mode": {
    "name": "ipython",
    "version": 3
   },
   "file_extension": ".py",
   "mimetype": "text/x-python",
   "name": "python",
   "nbconvert_exporter": "python",
   "pygments_lexer": "ipython3",
   "version": "3.4.3"
  }
 },
 "nbformat": 4,
 "nbformat_minor": 0
}
